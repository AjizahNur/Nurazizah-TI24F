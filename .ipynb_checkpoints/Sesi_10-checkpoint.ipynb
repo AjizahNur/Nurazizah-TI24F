{
 "cells": [
  {
   "cell_type": "code",
   "execution_count": null,
   "id": "52f61d05-4a16-4e8d-a4c7-df3e7a4fbab4",
   "metadata": {},
   "outputs": [],
   "source": [
    "datalist = {}"
   ]
  },
  {
   "cell_type": "code",
   "execution_count": 5,
   "id": "1d8c3eb1-47ff-45db-a254-ea56631cbadc",
   "metadata": {},
   "outputs": [],
   "source": [
    "def addStudent():\n",
    "    id_student = int(input(\"Masukkan ID Mahasiswa:\"))\n",
    "    name_student = input(\"Masukkan Nama Mahasiswa:\")\n",
    "    major_student = input(\"Masukkan Prodi Mahasiswa:\")\n",
    "    IPK_student = float(input(\"Masukkan IPK Mahasiswa:\"))\n",
    "    temp = []\n",
    "    temp.append(name_student)\n",
    "    temp.append(major_student)\n",
    "    temp.append(IPK_student)\n",
    "    temp = tuple(temp)\n",
    "    datalist[id_student] = temp"
   ]
  },
  {
   "cell_type": "code",
   "execution_count": 7,
   "id": "0965dcdc-61b5-4709-8b25-2be21d574a8f",
   "metadata": {},
   "outputs": [],
   "source": [
    "def readStudent():\n",
    "    print(datalist)"
   ]
  },
  {
   "cell_type": "code",
   "execution_count": 11,
   "id": "c0f3fdd6-0317-4cb0-bdc0-d0f42c11d5df",
   "metadata": {},
   "outputs": [],
   "source": [
    "def findStudent():\n",
    "    id_student = int(input(\"Masukkan ID Mahasiswa yang akan dicari:\"))\n",
    "    if id_student in datalist:\n",
    "        print(datalist[id_student])\n",
    "    else:\n",
    "        print(\"Mahasiswa tidak ditemukan\")"
   ]
  },
  {
   "cell_type": "code",
   "execution_count": 15,
   "id": "284937f4-4f1e-4547-a5f0-58ec18615aaa",
   "metadata": {},
   "outputs": [],
   "source": [
    "def updateIPKStudent():\n",
    "    id_student = int(input(\"Masukkan ID Mahasiswa yang akan di update IPK:\"))\n",
    "    update_IPK = float(input(\"Masukkan IPK yang terbaru:\"))\n",
    "    temp = list(datalist[id_student])\n",
    "    temp[2] = update_IPK\n",
    "    temp = tuple(temp)\n",
    "    datalist[id_student] = temp"
   ]
  },
  {
   "cell_type": "code",
   "execution_count": 19,
   "id": "b813f60f-66fa-4c2b-8688-8f2b6ab055e1",
   "metadata": {},
   "outputs": [],
   "source": [
    "def deStudent():\n",
    "    id_student = int(input(\"Masukkan ID Mahasiswa yang akan dihapus:\"))\n",
    "    del datalist[id_student]"
   ]
  },
  {
   "cell_type": "code",
   "execution_count": 25,
   "id": "8a1f8d6e-d108-4fe1-80ab-380137e759df",
   "metadata": {},
   "outputs": [
    {
     "name": "stdout",
     "output_type": "stream",
     "text": [
      "---Menu--- \n",
      "\n",
      "1.Tambahkan Mahasiswa \n",
      "2.Tampilkan seluruh Mahasiswa \n",
      "3.Cari Mahasiswa \n",
      "4.Update IPK Mahasiswa \n",
      "5.Hapus Mahasiswa \n",
      "6.Keluar\n"
     ]
    },
    {
     "name": "stdin",
     "output_type": "stream",
     "text": [
      " 1\n",
      "Masukkan ID Mahasiswa: 20240040124\n",
      "Masukkan Nama Mahasiswa: NURAZIZAH\n",
      "Masukkan Prodi Mahasiswa: Teknik Informatika\n",
      "Masukkan IPK Mahasiswa: 4.00\n"
     ]
    },
    {
     "name": "stdout",
     "output_type": "stream",
     "text": [
      "---Menu--- \n",
      "\n",
      "1.Tambahkan Mahasiswa \n",
      "2.Tampilkan seluruh Mahasiswa \n",
      "3.Cari Mahasiswa \n",
      "4.Update IPK Mahasiswa \n",
      "5.Hapus Mahasiswa \n",
      "6.Keluar\n"
     ]
    },
    {
     "name": "stdin",
     "output_type": "stream",
     "text": [
      " 2\n"
     ]
    },
    {
     "name": "stdout",
     "output_type": "stream",
     "text": [
      "{20240040124: ('NURAZIZAH', 'Teknik Informatika', 4.0)}\n",
      "---Menu--- \n",
      "\n",
      "1.Tambahkan Mahasiswa \n",
      "2.Tampilkan seluruh Mahasiswa \n",
      "3.Cari Mahasiswa \n",
      "4.Update IPK Mahasiswa \n",
      "5.Hapus Mahasiswa \n",
      "6.Keluar\n"
     ]
    },
    {
     "name": "stdin",
     "output_type": "stream",
     "text": [
      " 3\n",
      "Masukkan ID Mahasiswa yang akan dicari: 20240040124\n"
     ]
    },
    {
     "name": "stdout",
     "output_type": "stream",
     "text": [
      "('NURAZIZAH', 'Teknik Informatika', 4.0)\n",
      "---Menu--- \n",
      "\n",
      "1.Tambahkan Mahasiswa \n",
      "2.Tampilkan seluruh Mahasiswa \n",
      "3.Cari Mahasiswa \n",
      "4.Update IPK Mahasiswa \n",
      "5.Hapus Mahasiswa \n",
      "6.Keluar\n"
     ]
    },
    {
     "name": "stdin",
     "output_type": "stream",
     "text": [
      " 6\n"
     ]
    }
   ],
   "source": [
    "i = True\n",
    "while i is True:\n",
    "    print(\"---Menu--- \\n\\n1.Tambahkan Mahasiswa \\n2.Tampilkan seluruh Mahasiswa \\n3.Cari Mahasiswa \\n4.Update IPK Mahasiswa \\n5.Hapus Mahasiswa \\n6.Keluar\")\n",
    "    pilihan = int(input())\n",
    "    \n",
    "    if pilihan == 1:\n",
    "        addStudent()\n",
    "        \n",
    "    elif pilihan == 2:\n",
    "        readStudent()\n",
    "        \n",
    "    elif pilihan == 3:\n",
    "        findStudent()\n",
    "        \n",
    "    elif pilihan == 4:\n",
    "        updateIPKStudent()\n",
    "        \n",
    "    elif pilihan == 5:\n",
    "        delStudent()\n",
    "        \n",
    "    elif pilihan == 6:\n",
    "        i = False\n",
    "    else:\n",
    "        print(\"Masukkan angka yang ada di menu (1-6)\")"
   ]
  }
 ],
 "metadata": {
  "kernelspec": {
   "display_name": "Python [conda env:base] *",
   "language": "python",
   "name": "conda-base-py"
  },
  "language_info": {
   "codemirror_mode": {
    "name": "ipython",
    "version": 3
   },
   "file_extension": ".py",
   "mimetype": "text/x-python",
   "name": "python",
   "nbconvert_exporter": "python",
   "pygments_lexer": "ipython3",
   "version": "3.12.7"
  }
 },
 "nbformat": 4,
 "nbformat_minor": 5
}
