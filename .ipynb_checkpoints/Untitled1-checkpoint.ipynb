{
 "cells": [
  {
   "cell_type": "code",
   "execution_count": 1,
   "id": "ce2cfed3-65d5-496a-84e9-805fd7733e59",
   "metadata": {},
   "outputs": [
    {
     "name": "stdin",
     "output_type": "stream",
     "text": [
      "Masukkan angka belasan:  11\n"
     ]
    },
    {
     "name": "stdout",
     "output_type": "stream",
     "text": [
      "11 bukan angka spesial karena 11 tidak habis dibagi 2.\n"
     ]
    }
   ],
   "source": [
    "angka = int(input(\"Masukkan angka belasan: \"))\n",
    "\n",
    "if angka < 10 or angka > 99:\n",
    "    print(\"Masukkan angka dua digit ya!\")\n",
    "else:\n",
    "    digit1 = angka // 10\n",
    "    digit2 = angka % 10\n",
    "    jumlah_digit = digit1 + digit2\n",
    "\n",
    "    if angka % jumlah_digit == 0:\n",
    "        print(f\"{angka} adalah angka spesial karena {angka} habis dibagi {jumlah_digit}.\")\n",
    "    else:\n",
    "        print(f\"{angka} bukan angka spesial karena {angka} tidak habis dibagi {jumlah_digit}.\")\n",
    "        "
   ]
  },
  {
   "cell_type": "code",
   "execution_count": null,
   "id": "04b1b0de-262b-49d1-a322-85b546210417",
   "metadata": {},
   "outputs": [],
   "source": []
  }
 ],
 "metadata": {
  "kernelspec": {
   "display_name": "Python [conda env:base] *",
   "language": "python",
   "name": "conda-base-py"
  },
  "language_info": {
   "codemirror_mode": {
    "name": "ipython",
    "version": 3
   },
   "file_extension": ".py",
   "mimetype": "text/x-python",
   "name": "python",
   "nbconvert_exporter": "python",
   "pygments_lexer": "ipython3",
   "version": "3.12.7"
  }
 },
 "nbformat": 4,
 "nbformat_minor": 5
}
