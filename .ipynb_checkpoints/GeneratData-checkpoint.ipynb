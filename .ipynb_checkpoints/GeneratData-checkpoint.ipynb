{
 "cells": [
  {
   "cell_type": "markdown",
   "id": "1b138645-88bb-4063-9ec7-cb8d0c1658dc",
   "metadata": {},
   "source": [
    "import numpy as np\n",
    "import pandas as pd\n",
    "\n",
    "n_data = 10000\n",
    "idTransaksi = np.random.randint(1, 10001, size = n_data)\n",
    "tglTransaksi = np.random.randint(1,32, size = n_data)\n",
    "blnTransaksi = np.random.randint(1,13, size = n_data)\n",
    "thnTransaksi = np.random.randint(2022,2025, size = n_data)\n",
    "usiaPembeli = np.random.randint(21,81, size = n_data)\n",
    "beratBarang = np.random.randint(5,1000, size = n_data)\n",
    "kaliTransaksi = np.random.randint(1,21, size = n_data)\n",
    "waktuKirim = np.random.randint(1,15, size = n_data)\n",
    "gender = np.random.choice(['L','P'], size = n_data)\n",
    "ongkir = np.random.choice(['10000','20000','30000','40000','50000'], size = n_data)\n",
    "\n",
    "df = pd.DataFrame({\n",
    "    'ID Transaksi':idTransaksi,\n",
    "    'Tanggal': tglTransaksi,\n",
    "    'Bulan': blnTransaksi,\n",
    "    'Tahun': thnTransaksi,\n",
    "    'Usia Pembeli': usiaPembeli,\n",
    "    'Gender': gender,\n",
    "    'Berat Barang (gr)': beratBarang,\n",
    "    'Berapa Kali Transaksi': kaliTransaksi,\n",
    "    'Waktu Pengiriman (Hari)': waktuKirim,\n",
    "    'Ongkos Kirim': ongkir\n",
    "})\n",
    "\n",
    "df.to_csv('dataLatihan.csv',index = False)"
   ]
  },
  {
   "cell_type": "code",
   "execution_count": null,
   "id": "246764a6-2546-4165-b220-cbb8861e1dea",
   "metadata": {},
   "outputs": [],
   "source": []
  }
 ],
 "metadata": {
  "kernelspec": {
   "display_name": "Python [conda env:base] *",
   "language": "python",
   "name": "conda-base-py"
  },
  "language_info": {
   "codemirror_mode": {
    "name": "ipython",
    "version": 3
   },
   "file_extension": ".py",
   "mimetype": "text/x-python",
   "name": "python",
   "nbconvert_exporter": "python",
   "pygments_lexer": "ipython3",
   "version": "3.12.7"
  }
 },
 "nbformat": 4,
 "nbformat_minor": 5
}
