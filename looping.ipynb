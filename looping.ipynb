{
 "cells": [
  {
   "cell_type": "code",
   "execution_count": 5,
   "id": "211ee6e0-1b55-47ae-b8b5-1bc29159912d",
   "metadata": {},
   "outputs": [
    {
     "name": "stdout",
     "output_type": "stream",
     "text": [
      "Nama Buah :Apple\n",
      "Nama Buah :Banana\n",
      "Nama Buah :Watermelon\n"
     ]
    }
   ],
   "source": [
    "fruits = [\"Apple\",\"Banana\",\"Watermelon\"]\n",
    "for fruit in fruits:\n",
    "    print(f\"Nama Buah :{fruit}\")"
   ]
  },
  {
   "cell_type": "code",
   "execution_count": 9,
   "id": "46b61832-d442-4838-97ec-a3123f45826d",
   "metadata": {},
   "outputs": [
    {
     "name": "stdout",
     "output_type": "stream",
     "text": [
      "Nilai Rata-rata : 71.42857142857143\n"
     ]
    }
   ],
   "source": [
    "#Contoh\n",
    "#Kelas TI24F punya data nilai pemrograman python 80,100,90,70,70,50,40\n",
    "#Carilah nilai rata-rat nilai pemrograman python di kelas TI24F\n",
    "\n",
    "nilaiPython = [80,100,90,70,70,50,40]\n",
    "total = 0\n",
    "for nilai in nilaiPython:\n",
    "    total += nilai\n",
    "\n",
    "rata2 = total / len(nilaiPython)\n",
    "print(f\"Nilai Rata-rata : {rata2}\")"
   ]
  },
  {
   "cell_type": "code",
   "execution_count": 13,
   "id": "1cced32f-4b90-4cf1-acaf-6c0545ff90d9",
   "metadata": {},
   "outputs": [
    {
     "name": "stdout",
     "output_type": "stream",
     "text": [
      "0 : Aug\n",
      "1 : Jan\n",
      "2 : Sep\n",
      "3 : Apr\n",
      "4 : Feb\n",
      "5 : Jun\n",
      "6 : Mar\n",
      "7 : May\n",
      "8 : Jul\n"
     ]
    }
   ],
   "source": [
    "#Enumerat\n",
    "month = {\"Jan\",\"Feb\",\"Mar\",\"Apr\",\"May\",\"Jun\",\"Jul\",\"Aug\",\"Sep\"}\n",
    "for i, m in enumerate(month):\n",
    "    print(f\"{i} : {m}\")"
   ]
  },
  {
   "cell_type": "code",
   "execution_count": 43,
   "id": "284cdf61-0e83-499e-8f86-00fb23dca49b",
   "metadata": {},
   "outputs": [
    {
     "name": "stdin",
     "output_type": "stream",
     "text": [
      "Isikan Nama Kampus: Universitas Padjajaran\n"
     ]
    },
    {
     "name": "stdout",
     "output_type": "stream",
     "text": [
      "U adalah Huruf Vokal|Total:1\n",
      "n adalah Bukan Huruf Vokal|Total:1\n",
      "i adalah Huruf Vokal|Total:2\n",
      "v adalah Bukan Huruf Vokal|Total:2\n",
      "e adalah Huruf Vokal|Total:3\n",
      "r adalah Bukan Huruf Vokal|Total:3\n",
      "s adalah Bukan Huruf Vokal|Total:3\n",
      "i adalah Huruf Vokal|Total:4\n",
      "t adalah Bukan Huruf Vokal|Total:4\n",
      "a adalah Huruf Vokal|Total:5\n",
      "s adalah Bukan Huruf Vokal|Total:5\n",
      "  adalah Bukan Huruf Vokal|Total:5\n",
      "P adalah Bukan Huruf Vokal|Total:5\n",
      "a adalah Huruf Vokal|Total:6\n",
      "d adalah Bukan Huruf Vokal|Total:6\n",
      "j adalah Bukan Huruf Vokal|Total:6\n",
      "a adalah Huruf Vokal|Total:7\n",
      "j adalah Bukan Huruf Vokal|Total:7\n",
      "a adalah Huruf Vokal|Total:8\n",
      "r adalah Bukan Huruf Vokal|Total:8\n",
      "a adalah Huruf Vokal|Total:9\n",
      "n adalah Bukan Huruf Vokal|Total:9\n",
      "Jumlah Total huruf Vokal : 9\n"
     ]
    }
   ],
   "source": [
    "kampus = input(\"Isikan Nama Kampus:\")\n",
    "listVokal = [\"a\",\"i\",\"u\",\"e\",\"o\",\"A\",\"I\",\"U\",\"E\",\"O\"]\n",
    "total = 0\n",
    "isVokal =\"\"\n",
    "for Karakter in kampus:\n",
    "    if Karakter in listVokal:\n",
    "        total +=1\n",
    "        isVokal = \"Huruf Vokal\"\n",
    "    else:\n",
    "        isVokal = \"Bukan Huruf Vokal\"\n",
    "    print(f\"{Karakter} adalah {isVokal}|Total:{total}\") #berapa banyak jumlah hurup vokal 'a,i,u,e,o'\n",
    "print(f\"Jumlah Total huruf Vokal : {total}\")"
   ]
  },
  {
   "cell_type": "code",
   "execution_count": 21,
   "id": "887c6540-57ed-49ce-8f12-a36d1f7f9929",
   "metadata": {},
   "outputs": [
    {
     "name": "stdout",
     "output_type": "stream",
     "text": [
      "[1, 4, 9, 16, 25]\n"
     ]
    }
   ],
   "source": [
    "#Looping List Comprehensi\n",
    "\n",
    "data = [1,2,3,4,5]\n",
    "pangkat = [x**2 for x in data]\n",
    "print(pangkat)"
   ]
  },
  {
   "cell_type": "code",
   "execution_count": 45,
   "id": "87198345-5810-4f8c-9fb8-f3298b67ccf2",
   "metadata": {},
   "outputs": [
    {
     "name": "stdout",
     "output_type": "stream",
     "text": [
      "Nilai j : 5\n",
      "Nilai j : 6\n",
      "Nilai j : 7\n",
      "Nilai j : 8\n",
      "Nilai j : 9\n"
     ]
    }
   ],
   "source": [
    "#Range\n",
    "for j in range(5,10):\n",
    "    print(f\"Nilai j : {j}\")"
   ]
  },
  {
   "cell_type": "code",
   "execution_count": 51,
   "id": "75ff44f0-7623-46ba-b809-b4e05e87d2fd",
   "metadata": {},
   "outputs": [
    {
     "name": "stdin",
     "output_type": "stream",
     "text": [
      "Isikan Bilangan: 40\n"
     ]
    },
    {
     "name": "stdout",
     "output_type": "stream",
     "text": [
      "40 adalah Bukan Prima\n"
     ]
    }
   ],
   "source": [
    "#Cek bilangan prima atau bukan pirma \n",
    "number = int(input(\"Isikan Bilangan:\"))\n",
    "faktor=0\n",
    "for i in range (1,number+1):\n",
    "    if number % i == 0:\n",
    "            faktor +=1\n",
    "if faktor==2:\n",
    "    print(f\"{number} adalah Bukan Prima\")\n",
    "\n",
    "else:\n",
    "    print(f\"{number} adalah Bukan Prima\")\n"
   ]
  },
  {
   "cell_type": "code",
   "execution_count": 53,
   "id": "3472288c-00c0-49aa-a111-0887af3c355c",
   "metadata": {},
   "outputs": [
    {
     "name": "stdin",
     "output_type": "stream",
     "text": [
      "Isikan Bilangan: 2\n"
     ]
    },
    {
     "name": "stdout",
     "output_type": "stream",
     "text": [
      "2! = 2\n"
     ]
    }
   ],
   "source": [
    "#Faktorial\n",
    "# 3! = 3 * 2 * 1 = 6\n",
    "# 4! = 4 * 3 * 2 * 1 = 24\n",
    "total = 1\n",
    "number = int(input(\"Isikan Bilangan:\"))\n",
    "for i in range (1,number+1):\n",
    "    total *= i\n",
    "print(f\"{number}! = {total}\")\n"
   ]
  },
  {
   "cell_type": "code",
   "execution_count": 79,
   "id": "31f342af-d724-494a-9891-ef95bf88610f",
   "metadata": {},
   "outputs": [
    {
     "name": "stdin",
     "output_type": "stream",
     "text": [
      "Isikan Bilangan: 15\n"
     ]
    },
    {
     "name": "stdout",
     "output_type": "stream",
     "text": [
      "1  -2  3  -4  5  -6  7  -8  9  -10  11  -12  13  -14  15  "
     ]
    }
   ],
   "source": [
    "#1 -2 3 -4 5 -6 7 -8 9 -10\n",
    "number = int(input(\"Isikan Bilangan:\"))\n",
    "sign = 1\n",
    "for i in range(1,number+1):\n",
    "    result = sign * i\n",
    "    print(f\"{result}  \", end='')\n",
    "    sign *= -1"
   ]
  },
  {
   "cell_type": "code",
   "execution_count": 85,
   "id": "d47bc2f0-2333-437d-8eb4-274cd02feb06",
   "metadata": {},
   "outputs": [
    {
     "name": "stdout",
     "output_type": "stream",
     "text": [
      "Jumlah Penonton Laki-laki:4\n",
      "Jumlah Penonton Perempuan:3\n"
     ]
    }
   ],
   "source": [
    "kursiBioskop = [\"L\",\"P\",\"P\",\"L\",\"L\",\"P\",\"L\"]\n",
    "\n",
    "#Hitung jumlah penonton laki-laki\n",
    "#Hitung Jumlah penonton Perempuan\n",
    "\n",
    "totalLaki = 0\n",
    "for jenis in kursiBioskop:\n",
    "    if jenis==\"L\":\n",
    "        totalLaki +=1\n",
    "print(f\"Jumlah Penonton Laki-laki:{totalLaki}\")\n",
    "print(f\"Jumlah Penonton Perempuan:{len(kursiBioskop)-totalLaki}\")\n"
   ]
  },
  {
   "cell_type": "code",
   "execution_count": 87,
   "id": "c5f3305f-3620-4ef1-bf07-fc37bfd1ae7e",
   "metadata": {},
   "outputs": [
    {
     "name": "stdout",
     "output_type": "stream",
     "text": [
      "Jumlah Couple:4\n"
     ]
    }
   ],
   "source": [
    "#Hitung jumlah orang yang kemungkinan berpasangan \n",
    "kursi = [\"L\",\"P\",\"P\",\"L\",\"L\",\"P\",\"L\"]\n",
    "couple = 0\n",
    "for i in range(len(kursi)-1):\n",
    "    if kursi[i] != kursi [i+1]:\n",
    "        couple+=1\n",
    "print(f\"Jumlah Couple:{couple}\")"
   ]
  },
  {
   "cell_type": "code",
   "execution_count": 97,
   "id": "ba3ae37b-fd51-4104-9c10-89197d67123c",
   "metadata": {},
   "outputs": [
    {
     "name": "stdout",
     "output_type": "stream",
     "text": [
      "(key) : Dedi\n",
      "(key) : Robi\n"
     ]
    }
   ],
   "source": [
    "data = {\n",
    "    \"fname\" : \"Dedi\",\n",
    "    \"lname\" : \"Robi\"\n",
    "}\n",
    "for key,value in data.items():\n",
    "    print(f\"(key) : {value}\")"
   ]
  },
  {
   "cell_type": "code",
   "execution_count": null,
   "id": "cc19c5ba-2340-4656-a794-8f751d3845aa",
   "metadata": {},
   "outputs": [],
   "source": []
  }
 ],
 "metadata": {
  "kernelspec": {
   "display_name": "Python [conda env:base] *",
   "language": "python",
   "name": "conda-base-py"
  },
  "language_info": {
   "codemirror_mode": {
    "name": "ipython",
    "version": 3
   },
   "file_extension": ".py",
   "mimetype": "text/x-python",
   "name": "python",
   "nbconvert_exporter": "python",
   "pygments_lexer": "ipython3",
   "version": "3.12.7"
  }
 },
 "nbformat": 4,
 "nbformat_minor": 5
}
