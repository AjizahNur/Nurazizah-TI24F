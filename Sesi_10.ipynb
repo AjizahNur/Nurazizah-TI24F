{
 "cells": [
  {
   "cell_type": "code",
   "execution_count": 3,
   "id": "52f61d05-4a16-4e8d-a4c7-df3e7a4fbab4",
   "metadata": {},
   "outputs": [],
   "source": [
    "datalist = {}"
   ]
  },
  {
   "cell_type": "code",
   "execution_count": 5,
   "id": "1d8c3eb1-47ff-45db-a254-ea56631cbadc",
   "metadata": {},
   "outputs": [],
   "source": [
    "def addStudent():\n",
    "    id_student = int(input(\"Masukkan ID Mahasiswa:\"))\n",
    "    name_student = input(\"Masukkan Nama Mahasiswa:\")\n",
    "    major_student = input(\"Masukkan Prodi Mahasiswa:\")\n",
    "    IPK_student = float(input(\"Masukkan IPK Mahasiswa:\"))\n",
    "    temp = []\n",
    "    temp.append(name_student)\n",
    "    temp.append(major_student)\n",
    "    temp.append(IPK_student)\n",
    "    temp = tuple(temp)\n",
    "    datalist[id_student] = temp"
   ]
  },
  {
   "cell_type": "code",
   "execution_count": 7,
   "id": "0965dcdc-61b5-4709-8b25-2be21d574a8f",
   "metadata": {},
   "outputs": [],
   "source": [
    "def readStudent():\n",
    "    print(datalist)"
   ]
  },
  {
   "cell_type": "code",
   "execution_count": 11,
   "id": "c0f3fdd6-0317-4cb0-bdc0-d0f42c11d5df",
   "metadata": {},
   "outputs": [],
   "source": [
    "def findStudent():\n",
    "    id_student = int(input(\"Masukkan ID Mahasiswa yang akan dicari:\"))\n",
    "    if id_student in datalist:\n",
    "        print(datalist[id_student])\n",
    "    else:\n",
    "        print(\"Mahasiswa tidak ditemukan\")"
   ]
  },
  {
   "cell_type": "code",
   "execution_count": 15,
   "id": "284937f4-4f1e-4547-a5f0-58ec18615aaa",
   "metadata": {},
   "outputs": [],
   "source": [
    "def updateIPKStudent():\n",
    "    id_student = int(input(\"Masukkan ID Mahasiswa yang akan di update IPK:\"))\n",
    "    update_IPK = float(input(\"Masukkan IPK yang terbaru:\"))\n",
    "    temp = list(datalist[id_student])\n",
    "    temp[2] = update_IPK\n",
    "    temp = tuple(temp)\n",
    "    datalist[id_student] = temp"
   ]
  },
  {
   "cell_type": "code",
   "execution_count": 19,
   "id": "b813f60f-66fa-4c2b-8688-8f2b6ab055e1",
   "metadata": {},
   "outputs": [],
   "source": [
    "def deStudent():\n",
    "    id_student = int(input(\"Masukkan ID Mahasiswa yang akan dihapus:\"))\n",
    "    del datalist[id_student]"
   ]
  },
  {
   "cell_type": "code",
   "execution_count": 1,
   "id": "883fb3e9-5f91-4adc-9a22-8bce089259ca",
   "metadata": {},
   "outputs": [
    {
     "name": "stdout",
     "output_type": "stream",
     "text": [
      "---Menu--- \n",
      "\n",
      "1.Tambahkan Mahasiswa \n",
      "2.Tampilkan seluruh Mahasiswa \n",
      "3.Cari Mahasiswa \n",
      "4.Update IPK Mahasiswa \n",
      "5.Hapus Mahasiswa \n",
      "6.Keluar\n"
     ]
    },
    {
     "name": "stdin",
     "output_type": "stream",
     "text": [
      " 1\n"
     ]
    },
    {
     "ename": "NameError",
     "evalue": "name 'addStudent' is not defined",
     "output_type": "error",
     "traceback": [
      "\u001b[1;31m---------------------------------------------------------------------------\u001b[0m",
      "\u001b[1;31mNameError\u001b[0m                                 Traceback (most recent call last)",
      "Cell \u001b[1;32mIn[1], line 7\u001b[0m\n\u001b[0;32m      4\u001b[0m pilihan \u001b[38;5;241m=\u001b[39m \u001b[38;5;28mint\u001b[39m(\u001b[38;5;28minput\u001b[39m())\n\u001b[0;32m      6\u001b[0m \u001b[38;5;28;01mif\u001b[39;00m pilihan \u001b[38;5;241m==\u001b[39m \u001b[38;5;241m1\u001b[39m:\n\u001b[1;32m----> 7\u001b[0m     addStudent()\n\u001b[0;32m      9\u001b[0m \u001b[38;5;28;01melif\u001b[39;00m pilihan \u001b[38;5;241m==\u001b[39m \u001b[38;5;241m2\u001b[39m:\n\u001b[0;32m     10\u001b[0m     readStudent()\n",
      "\u001b[1;31mNameError\u001b[0m: name 'addStudent' is not defined"
     ]
    }
   ],
   "source": [
    "i = True\n",
    "while i is True:\n",
    "    print(\"---Menu--- \\n\\n1.Tambahkan Mahasiswa \\n2.Tampilkan seluruh Mahasiswa \\n3.Cari Mahasiswa \\n4.Update IPK Mahasiswa \\n5.Hapus Mahasiswa \\n6.Keluar\")\n",
    "    pilihan = int(input())\n",
    "    \n",
    "    if pilihan == 1:\n",
    "        addStudent()\n",
    "        \n",
    "    elif pilihan == 2:\n",
    "        readStudent()\n",
    "        \n",
    "    elif pilihan == 3:\n",
    "        findStudent()\n",
    "        \n",
    "    elif pilihan == 4:\n",
    "        updateIPKStudent()\n",
    "        \n",
    "    elif pilihan == 5:\n",
    "        delStudent()\n",
    "        \n",
    "    elif pilihan == 6:\n",
    "        i = False\n",
    "    else:\n",
    "        print(\"Masukkan angka yang ada di menu (1-6)\")"
   ]
  },
  {
   "cell_type": "code",
   "execution_count": 3,
   "id": "71de6c00-1ed2-4c2e-a268-4769b1c0aaee",
   "metadata": {},
   "outputs": [
    {
     "name": "stdout",
     "output_type": "stream",
     "text": [
      "---Menu--- \n",
      "\n",
      "1.Tambahkan Mahasiswa \n",
      "2.Tampilkan Seluruh Mahasiswa \n",
      "3.Cari Mahasiswa \n",
      "4.Update IPK Mahasiswa \n",
      "5.Hapus Mahasiswa \n",
      "6.Keluar\n"
     ]
    },
    {
     "name": "stdin",
     "output_type": "stream",
     "text": [
      " 1\n"
     ]
    },
    {
     "ename": "NameError",
     "evalue": "name 'addStudent' is not defined",
     "output_type": "error",
     "traceback": [
      "\u001b[1;31m---------------------------------------------------------------------------\u001b[0m",
      "\u001b[1;31mNameError\u001b[0m                                 Traceback (most recent call last)",
      "Cell \u001b[1;32mIn[3], line 7\u001b[0m\n\u001b[0;32m      4\u001b[0m pilihan \u001b[38;5;241m=\u001b[39m \u001b[38;5;28mint\u001b[39m(\u001b[38;5;28minput\u001b[39m())\n\u001b[0;32m      6\u001b[0m \u001b[38;5;28;01mif\u001b[39;00m pilihan \u001b[38;5;241m==\u001b[39m \u001b[38;5;241m1\u001b[39m:\n\u001b[1;32m----> 7\u001b[0m     addStudent()\n\u001b[0;32m      9\u001b[0m \u001b[38;5;28;01melif\u001b[39;00m pilihan \u001b[38;5;241m==\u001b[39m \u001b[38;5;241m2\u001b[39m:\n\u001b[0;32m     10\u001b[0m     readStudent()\n",
      "\u001b[1;31mNameError\u001b[0m: name 'addStudent' is not defined"
     ]
    }
   ],
   "source": [
    "i = True\n",
    "while i is True:\n",
    "    print(\"---Menu--- \\n\\n1.Tambahkan Mahasiswa \\n2.Tampilkan Seluruh Mahasiswa \\n3.Cari Mahasiswa \\n4.Update IPK Mahasiswa \\n5.Hapus Mahasiswa \\n6.Keluar\")\n",
    "    pilihan = int(input())\n",
    "    \n",
    "    if pilihan == 1:\n",
    "        addStudent()\n",
    "    \n",
    "    elif pilihan == 2:\n",
    "        readStudent()\n",
    "    \n",
    "    elif pilihan == 3:\n",
    "        findStudent()\n",
    "    \n",
    "    elif pilihan == 4:\n",
    "        updateIPKStudent()\n",
    "    \n",
    "    elif pilihan == 5:\n",
    "        delStudent()\n",
    "    \n",
    "    elif pilihan == 6:\n",
    "        i = False\n",
    "    else:\n",
    "        print(\"Masukan angka yang ada di menu (1-6)\")"
   ]
  },
  {
   "cell_type": "code",
   "execution_count": null,
   "id": "b0c60704-c6be-4011-9bfb-60727848c0be",
   "metadata": {},
   "outputs": [],
   "source": []
  }
 ],
 "metadata": {
  "kernelspec": {
   "display_name": "Python [conda env:base] *",
   "language": "python",
   "name": "conda-base-py"
  },
  "language_info": {
   "codemirror_mode": {
    "name": "ipython",
    "version": 3
   },
   "file_extension": ".py",
   "mimetype": "text/x-python",
   "name": "python",
   "nbconvert_exporter": "python",
   "pygments_lexer": "ipython3",
   "version": "3.12.7"
  }
 },
 "nbformat": 4,
 "nbformat_minor": 5
}
