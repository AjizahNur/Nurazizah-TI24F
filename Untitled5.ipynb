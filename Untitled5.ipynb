{
 "cells": [
  {
   "cell_type": "code",
   "execution_count": null,
   "id": "9d2abebb-33ae-486c-99af-ec8e8a5fa216",
   "metadata": {},
   "outputs": [],
   "source": [
    "def tambah_mahasiswa():\n",
    "    nim = input(\"Masukkan NIM: \")\n",
    "    nama = input(\"Masukkan Nama: \")\n",
    "    jurusan = input(\"Masukkan Jurusan: \")\n",
    "    ipk = float(input(\"Masukkan IPK: \"))\n",
    "    mahasiswa[nim] = (nama, jurusan, ipk)\n",
    "    print(\"Data berhasil ditambahkan.\\n\")\n",
    "\n",
    "def tampilkan_mahasiswa():\n",
    "    if not mahasiswa:\n",
    "        print(\"Belum ada data.\")\n",
    "    else:\n",
    "        for nim, data in mahasiswa.items():\n",
    "            print(f\"NIM:{nim}, Nama:{data[0]}, Jurusa:{data[1]}, IPK:{data[2]}\")\n",
    "\n",
    "def cari_mahasiswa():\n",
    "    nim = input(\"Masukkan NIM yang dicari: \")\n",
    "    if nim in mahasiswa:\n",
    "        data = mahasiswa[nim]\n",
    "        print(f\"Nama:{data[0], Jurusan:{1}, IPK:{data[2]}\")\n",
    "    else:\n",
    "       print(\"Mahasiswa tidak ditemukan.\")\n",
    "\n",
    "def update_ipk():\n",
    "    nim = input(\"Masukkan NIM:\")\n",
    "    if nim in mahasiswa:\n",
    "       ipk_baru = float(input(\"Masukkan IPK baru:\"))\n",
    "       nama, jurusan,_=mahasiswa[nim]\n",
    "       mahasiswa[nim] = (nama, jurusan, ipk_baru)\n",
    "print(\"IPK diperbarui.\")\n",
    "    else:\n",
    "       print(\"Mahasiswa tidak ditemukan.\")\n",
    "\n",
    "def hapus_mahasiswa():\n",
    "    nim = input(\"Masukkan NIM: \")\n",
    "    if nim in mahasiswa:\n",
    "        del mahasiswa[nim]\n",
    "        print(\"Data dihapus.\")\n",
    "    else:\n",
    "        print(\"Mahasiswa tidak ditemukan.\")\n",
    "    "
   ]
  },
  {
   "cell_type": "code",
   "execution_count": null,
   "id": "75724cf7-b920-4c33-9937-39fdca515cc1",
   "metadata": {},
   "outputs": [],
   "source": []
  }
 ],
 "metadata": {
  "kernelspec": {
   "display_name": "Python [conda env:base] *",
   "language": "python",
   "name": "conda-base-py"
  },
  "language_info": {
   "codemirror_mode": {
    "name": "ipython",
    "version": 3
   },
   "file_extension": ".py",
   "mimetype": "text/x-python",
   "name": "python",
   "nbconvert_exporter": "python",
   "pygments_lexer": "ipython3",
   "version": "3.12.7"
  }
 },
 "nbformat": 4,
 "nbformat_minor": 5
}
