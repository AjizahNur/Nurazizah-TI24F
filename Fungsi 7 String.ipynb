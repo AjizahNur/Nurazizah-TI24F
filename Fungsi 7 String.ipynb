{
 "cells": [
  {
   "cell_type": "markdown",
   "id": "cdfcf52f",
   "metadata": {},
   "source": [
    "<h1>Split</h1>"
   ]
  },
  {
   "cell_type": "code",
   "execution_count": 1,
   "id": "05354547",
   "metadata": {},
   "outputs": [
    {
     "name": "stdout",
     "output_type": "stream",
     "text": [
      "Jumlah kata: 8\n"
     ]
    }
   ],
   "source": [
    "def hitung_kata(kalimat):\n",
    "    kata_kata = kalimat.split()\n",
    "    return len(kata_kata)\n",
    "\n",
    "kalimat = \"Ini adalah contoh kalimat untuk dihitung jumlah katanya.\"\n",
    "jumlah = hitung_kata(kalimat)\n",
    "print(f\"Jumlah kata: {jumlah}\")\n"
   ]
  },
  {
   "cell_type": "markdown",
   "id": "29e7cfe3",
   "metadata": {},
   "source": [
    "<h1>Reverse</h1>"
   ]
  },
  {
   "cell_type": "code",
   "execution_count": 2,
   "id": "330576e1",
   "metadata": {},
   "outputs": [
    {
     "name": "stdout",
     "output_type": "stream",
     "text": [
      "Kalimat terbalik: kalimat. contoh adalah Ini\n"
     ]
    }
   ],
   "source": [
    "def balik_kata(kalimat):\n",
    "    kata_kata = kalimat.split()\n",
    "    kata_kata.reverse()\n",
    "    return \" \".join(kata_kata)\n",
    "\n",
    "kalimat = \"Ini adalah contoh kalimat.\"\n",
    "kalimat_terbalik = balik_kata(kalimat)\n",
    "print(f\"Kalimat terbalik: {kalimat_terbalik}\")\n"
   ]
  },
  {
   "cell_type": "markdown",
   "id": "27356065",
   "metadata": {},
   "source": [
    "<h1>Join</h1>"
   ]
  },
  {
   "cell_type": "code",
   "execution_count": 7,
   "id": "f8e7eaa6",
   "metadata": {},
   "outputs": [
    {
     "name": "stdout",
     "output_type": "stream",
     "text": [
      "Kalimat baru: Saya suka pisang.\n"
     ]
    }
   ],
   "source": [
    "def ganti_kata(kalimat, kata_lama, kata_baru):\n",
    "    return kalimat.replace(kata_lama, kata_baru)\n",
    "\n",
    "kalimat = \"Saya suka apel.\"\n",
    "kalimat_baru = ganti_kata(kalimat, \"apel\", \"pisang\")\n",
    "print(f\"Kalimat baru: {kalimat_baru}\")\n"
   ]
  },
  {
   "cell_type": "markdown",
   "id": "61ea3a7f",
   "metadata": {},
   "source": [
    "<h1>Replace</h1>"
   ]
  },
  {
   "cell_type": "code",
   "execution_count": 6,
   "id": "a5b75a98",
   "metadata": {},
   "outputs": [
    {
     "name": "stdout",
     "output_type": "stream",
     "text": [
      "'kasur rusak' adalah palindrom: True\n",
      "'bukan palindrom' adalah palindrom: False\n"
     ]
    }
   ],
   "source": [
    "def cek_palindrom(teks):\n",
    "    teks = teks.lower().replace(\" \", \"\")\n",
    "    return teks == teks[::-1]\n",
    "\n",
    "teks1 = \"kasur rusak\"\n",
    "teks2 = \"bukan palindrom\"\n",
    "print(f\"'{teks1}' adalah palindrom: {cek_palindrom(teks1)}\")\n",
    "print(f\"'{teks2}' adalah palindrom: {cek_palindrom(teks2)}\")\n"
   ]
  },
  {
   "cell_type": "markdown",
   "id": "39eea466",
   "metadata": {},
   "source": [
    "<h1>Lower</h1>"
   ]
  },
  {
   "cell_type": "code",
   "execution_count": 5,
   "id": "b330e720",
   "metadata": {},
   "outputs": [
    {
     "name": "stdout",
     "output_type": "stream",
     "text": [
      "Jumlah karakter 'a': 3\n"
     ]
    }
   ],
   "source": [
    "def hitung_karakter(teks, karakter):\n",
    "    return teks.lower().count(karakter.lower())\n",
    "\n",
    "teks = \"Ini adalah contoh teks.\"\n",
    "karakter = \"a\"\n",
    "jumlah = hitung_karakter(teks, karakter)\n",
    "print(f\"Jumlah karakter '{karakter}': {jumlah}\")\n"
   ]
  },
  {
   "cell_type": "markdown",
   "id": "3469b8e9",
   "metadata": {},
   "source": [
    "<h1>Count</h1>"
   ]
  },
  {
   "cell_type": "code",
   "execution_count": 4,
   "id": "b4b3747b",
   "metadata": {},
   "outputs": [
    {
     "name": "stdout",
     "output_type": "stream",
     "text": [
      "Tanggal baru: 27/10/2023\n"
     ]
    }
   ],
   "source": [
    "def ubah_format_tanggal(tanggal_lama):\n",
    "    from datetime import datetime\n",
    "    tanggal_obj = datetime.strptime(tanggal_lama, \"%Y-%m-%d\")\n",
    "    return tanggal_obj.strftime(\"%d/%m/%Y\")\n",
    "\n",
    "tanggal_lama = \"2023-10-27\"\n",
    "tanggal_baru = ubah_format_tanggal(tanggal_lama)\n",
    "print(f\"Tanggal baru: {tanggal_baru}\")\n"
   ]
  },
  {
   "cell_type": "markdown",
   "id": "b51ffdd6",
   "metadata": {},
   "source": [
    "<h1>re.findall</h1>"
   ]
  },
  {
   "cell_type": "code",
   "execution_count": 3,
   "id": "04e91d53",
   "metadata": {},
   "outputs": [
    {
     "name": "stdout",
     "output_type": "stream",
     "text": [
      "Nomor telepon: ['0812-3456-7890', '0877-1234-5678']\n"
     ]
    }
   ],
   "source": [
    "import re\n",
    "\n",
    "def ekstrak_substring(teks, pola):\n",
    "    hasil = re.findall(pola, teks)\n",
    "    return hasil\n",
    "\n",
    "teks = \"Nomor telepon: 0812-3456-7890 dan 0877-1234-5678\"\n",
    "pola = r\"\\d{4}-\\d{4}-\\d{4}\"\n",
    "nomor_telepon = ekstrak_substring(teks, pola)\n",
    "print(f\"Nomor telepon: {nomor_telepon}\")\n"
   ]
  }
 ],
 "metadata": {
  "kernelspec": {
   "display_name": "Python [conda env:base] *",
   "language": "python",
   "name": "conda-base-py"
  },
  "language_info": {
   "codemirror_mode": {
    "name": "ipython",
    "version": 3
   },
   "file_extension": ".py",
   "mimetype": "text/x-python",
   "name": "python",
   "nbconvert_exporter": "python",
   "pygments_lexer": "ipython3",
   "version": "3.12.7"
  }
 },
 "nbformat": 4,
 "nbformat_minor": 5
}
