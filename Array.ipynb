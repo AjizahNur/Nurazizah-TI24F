{
 "cells": [
  {
   "cell_type": "code",
   "execution_count": 1,
   "id": "c7fe7bba-8d2e-4955-8283-644286f97004",
   "metadata": {},
   "outputs": [],
   "source": [
    "import numpy as np"
   ]
  },
  {
   "cell_type": "code",
   "execution_count": 1,
   "id": "213409c4-0020-41a7-97e0-d3667b7c264b",
   "metadata": {},
   "outputs": [
    {
     "ename": "NameError",
     "evalue": "name 'np' is not defined",
     "output_type": "error",
     "traceback": [
      "\u001b[1;31m---------------------------------------------------------------------------\u001b[0m",
      "\u001b[1;31mNameError\u001b[0m                                 Traceback (most recent call last)",
      "Cell \u001b[1;32mIn[1], line 2\u001b[0m\n\u001b[0;32m      1\u001b[0m \u001b[38;5;66;03m#Matrix 1D\u001b[39;00m\n\u001b[1;32m----> 2\u001b[0m mat1D \u001b[38;5;241m=\u001b[39m np\u001b[38;5;241m.\u001b[39marray([\u001b[38;5;241m1\u001b[39m,\u001b[38;5;241m2\u001b[39m,\u001b[38;5;241m3\u001b[39m,\u001b[38;5;241m4\u001b[39m,\u001b[38;5;241m5\u001b[39m,\u001b[38;5;241m6\u001b[39m,\u001b[38;5;241m7\u001b[39m,\u001b[38;5;241m8\u001b[39m,\u001b[38;5;241m9\u001b[39m,\u001b[38;5;241m10\u001b[39m])\n\u001b[0;32m      3\u001b[0m mat2D \u001b[38;5;241m=\u001b[39m np\u001b[38;5;241m.\u001b[39marray([[\u001b[38;5;241m1\u001b[39m,\u001b[38;5;241m2\u001b[39m,\u001b[38;5;241m3\u001b[39m],[\u001b[38;5;241m4\u001b[39m,\u001b[38;5;241m5\u001b[39m,\u001b[38;5;241m6\u001b[39m],[\u001b[38;5;241m7\u001b[39m,\u001b[38;5;241m8\u001b[39m,\u001b[38;5;241m9\u001b[39m]])\n",
      "\u001b[1;31mNameError\u001b[0m: name 'np' is not defined"
     ]
    }
   ],
   "source": [
    "#Matrix 1D\n",
    "mat1D = np.array([1,2,3,4,5,6,7,8,9,10])\n",
    "mat2D = np.array([[1,2,3],[4,5,6],[7,8,9]])"
   ]
  },
  {
   "cell_type": "code",
   "execution_count": 10,
   "id": "9a7e6bd2-e5ac-4197-8993-8e56116742ec",
   "metadata": {},
   "outputs": [
    {
     "name": "stdout",
     "output_type": "stream",
     "text": [
      "[ 1  2  3  4  5  6  7  8  9 10]\n"
     ]
    }
   ],
   "source": [
    "print(mat1D)"
   ]
  },
  {
   "cell_type": "code",
   "execution_count": 12,
   "id": "2e7ca6ca-fa7b-4359-82e8-c01ddeacb9f5",
   "metadata": {},
   "outputs": [
    {
     "name": "stdout",
     "output_type": "stream",
     "text": [
      "1\n"
     ]
    }
   ],
   "source": [
    "print(mat1D[0])"
   ]
  },
  {
   "cell_type": "code",
   "execution_count": 14,
   "id": "67e45e52-47d1-4c60-b3ad-6596d7f6c24d",
   "metadata": {},
   "outputs": [
    {
     "name": "stdout",
     "output_type": "stream",
     "text": [
      "[ 6  7  8  9 10 11 12 13 14 15]\n"
     ]
    }
   ],
   "source": [
    "print(mat1D + 5)"
   ]
  },
  {
   "cell_type": "code",
   "execution_count": 16,
   "id": "e1261788-0c53-48b8-a201-b8a123a778c8",
   "metadata": {},
   "outputs": [
    {
     "name": "stdout",
     "output_type": "stream",
     "text": [
      "[[1 2 3]\n",
      " [4 5 6]\n",
      " [7 8 9]]\n"
     ]
    }
   ],
   "source": [
    "print(mat2D)"
   ]
  },
  {
   "cell_type": "code",
   "execution_count": 18,
   "id": "e5440350-b562-4155-b5ff-48cada0b1704",
   "metadata": {},
   "outputs": [
    {
     "name": "stdout",
     "output_type": "stream",
     "text": [
      "[1 2 3]\n",
      "[4 5 6]\n",
      "[7 8 9]\n"
     ]
    }
   ],
   "source": [
    "print(mat2D[0])\n",
    "print(mat2D[1])\n",
    "print(mat2D[2])"
   ]
  },
  {
   "cell_type": "code",
   "execution_count": 20,
   "id": "7d58f8e1-54d2-4a40-afe8-b9aa644d4ac5",
   "metadata": {},
   "outputs": [
    {
     "name": "stdout",
     "output_type": "stream",
     "text": [
      "3\n"
     ]
    }
   ],
   "source": [
    "print(mat2D[0][2])"
   ]
  },
  {
   "cell_type": "code",
   "execution_count": 22,
   "id": "313b4132-30fc-45f7-91fc-14fd76d87550",
   "metadata": {},
   "outputs": [
    {
     "name": "stdout",
     "output_type": "stream",
     "text": [
      "[[10 20 30]\n",
      " [40 50 60]\n",
      " [70 80 90]]\n"
     ]
    }
   ],
   "source": [
    "print(mat2D * 10)"
   ]
  },
  {
   "cell_type": "code",
   "execution_count": 28,
   "id": "137abdc7-f799-4403-b775-8bcca5c72200",
   "metadata": {},
   "outputs": [
    {
     "name": "stdout",
     "output_type": "stream",
     "text": [
      "(10,)\n",
      "(3, 3)\n"
     ]
    }
   ],
   "source": [
    "print(mat1D.shape)\n",
    "print(mat2D.shape)"
   ]
  },
  {
   "cell_type": "code",
   "execution_count": 30,
   "id": "9b42a545-7965-4a5c-85e8-45e553c19287",
   "metadata": {},
   "outputs": [
    {
     "name": "stdout",
     "output_type": "stream",
     "text": [
      "10\n",
      "9\n"
     ]
    }
   ],
   "source": [
    "print(mat1D.size)\n",
    "print(mat2D.size)"
   ]
  },
  {
   "cell_type": "code",
   "execution_count": 56,
   "id": "acd91155-213b-4ae8-a8c2-f0b105ba6c37",
   "metadata": {},
   "outputs": [],
   "source": [
    "#Special Matrix\n",
    "mZero = np.zeros((3,3))\n",
    "mIdentity = np.eye((4))\n",
    "mFull = np.full((4,4),7)\n",
    "mOne = np.ones((5,4))\n",
    "mRandomFloat = np.random.rand(5,5)\n",
    "mRandomInt = np.random.randint(10,101, size=6)"
   ]
  },
  {
   "cell_type": "code",
   "execution_count": 60,
   "id": "1da9273c-943e-470f-b41e-1818458d0a05",
   "metadata": {},
   "outputs": [
    {
     "name": "stdout",
     "output_type": "stream",
     "text": [
      "[[0. 0. 0.]\n",
      " [0. 0. 0.]\n",
      " [0. 0. 0.]]\n"
     ]
    }
   ],
   "source": [
    "print(mZero)"
   ]
  },
  {
   "cell_type": "code",
   "execution_count": 46,
   "id": "5f9ecd3c-9f51-42f7-b206-7f38944901b6",
   "metadata": {},
   "outputs": [
    {
     "name": "stdout",
     "output_type": "stream",
     "text": [
      "[[1. 0. 0. 0.]\n",
      " [0. 1. 0. 0.]\n",
      " [0. 0. 1. 0.]\n",
      " [0. 0. 0. 1.]]\n"
     ]
    }
   ],
   "source": [
    "print(mIdentity)"
   ]
  },
  {
   "cell_type": "code",
   "execution_count": 48,
   "id": "1721b9f8-227f-47ce-bdc9-9d1e5f91d098",
   "metadata": {},
   "outputs": [
    {
     "name": "stdout",
     "output_type": "stream",
     "text": [
      "[[1. 1. 1. 1.]\n",
      " [1. 1. 1. 1.]\n",
      " [1. 1. 1. 1.]\n",
      " [1. 1. 1. 1.]\n",
      " [1. 1. 1. 1.]]\n"
     ]
    }
   ],
   "source": [
    "print(mOne)"
   ]
  },
  {
   "cell_type": "code",
   "execution_count": 54,
   "id": "9ca4fde5-b5e4-4aed-8293-4d51e2648bfc",
   "metadata": {},
   "outputs": [
    {
     "name": "stdout",
     "output_type": "stream",
     "text": [
      "[[0.33198426 0.51833453 0.24788356 0.34099243 0.58816103]\n",
      " [0.65397982 0.58695318 0.67998987 0.56147855 0.13728156]\n",
      " [0.21663125 0.57738197 0.9195715  0.14403287 0.91319211]\n",
      " [0.44461289 0.20754509 0.87321708 0.44716503 0.34354466]\n",
      " [0.20130363 0.23415735 0.40681367 0.5778471  0.74612451]]\n"
     ]
    }
   ],
   "source": [
    "print(mRandomFloat)"
   ]
  },
  {
   "cell_type": "code",
   "execution_count": 58,
   "id": "e68843f3-53da-48e3-aa2a-a5ce078f1674",
   "metadata": {},
   "outputs": [
    {
     "name": "stdout",
     "output_type": "stream",
     "text": [
      "[ 20 100  33  47  28  99]\n"
     ]
    }
   ],
   "source": [
    "print(mRandomInt)"
   ]
  },
  {
   "cell_type": "code",
   "execution_count": 82,
   "id": "4a7b30d4-7b5a-4594-ab40-dd38f0160ecd",
   "metadata": {},
   "outputs": [
    {
     "name": "stdout",
     "output_type": "stream",
     "text": [
      "Hasil dari dot Product :65\n",
      "Hasil dari Penjumlahan Matriks :[ 3  9 14]\n",
      "Nilai minimum dari [2 6 9] : 2\n",
      "Nilai maksimum dari [1 3 5]:5\n",
      "Rata-rata Nilai dari [1 3 5]:3.0\n",
      "Nilai median dari [1 3 5]:3.0\n",
      "Nilai Deviasi dari [1 3 5] : 1.632993161855452\n"
     ]
    }
   ],
   "source": [
    "x = np.array([2,6,9])\n",
    "y = np.array([1,3,5])\n",
    "\n",
    "dotProduct = np.dot(x,y)\n",
    "addMatrix = np.add(x,y)\n",
    "minValue = np.min(x)\n",
    "maxValue = np.max(y)\n",
    "meanValue = np.mean(y)\n",
    "medianValue = np.median(y)\n",
    "stdValue = np.std(y)\n",
    "print(f\"Hasil dari dot Product :{dotProduct}\")\n",
    "print(f\"Hasil dari Penjumlahan Matriks :{addMatrix}\")\n",
    "print(f\"Nilai minimum dari {x} : {minValue}\")\n",
    "print(f\"Nilai maksimum dari {y}:{maxValue}\")\n",
    "print(f\"Rata-rata Nilai dari {y}:{meanValue}\")\n",
    "print(f\"Nilai median dari {y}:{medianValue}\") \n",
    "print(f\"Nilai Deviasi dari {y} : {stdValue}\")"
   ]
  },
  {
   "cell_type": "code",
   "execution_count": 86,
   "id": "67288b50-c3c3-4f7d-96a3-2e2012e43196",
   "metadata": {},
   "outputs": [
    {
     "name": "stdout",
     "output_type": "stream",
     "text": [
      "[[1 2]\n",
      " [3 4]\n",
      " [5 6]]\n",
      "[1 2 3 4 5 6]\n"
     ]
    }
   ],
   "source": [
    "myArray = np.array([[1,2,3],[4,5,6]])\n",
    "\n",
    "reshape = myArray.reshape(3,2)\n",
    "flatten = myArray.flatten()\n",
    "\n",
    "print(reshape)\n",
    "print(flatten)"
   ]
  },
  {
   "cell_type": "code",
   "execution_count": 88,
   "id": "e3303c4c-aa59-4b7d-b95a-8de90451d211",
   "metadata": {},
   "outputs": [
    {
     "name": "stdout",
     "output_type": "stream",
     "text": [
      "[ 80  90  60 100  95]\n",
      "Jumlah Siswa yang lulus:5\n"
     ]
    }
   ],
   "source": [
    "#Filtering\n",
    "nilaiSiswa = np.array([80,90,60,50,50,100,95])\n",
    "lulus = nilaiSiswa[nilaiSiswa > 50]\n",
    "jumlah = lulus.size\n",
    "print(lulus)\n",
    "print(f\"Jumlah Siswa yang lulus:{jumlah}\")"
   ]
  },
  {
   "cell_type": "code",
   "execution_count": null,
   "id": "134d543b-059d-4d9c-800a-e4f7f38ae891",
   "metadata": {},
   "outputs": [],
   "source": []
  }
 ],
 "metadata": {
  "kernelspec": {
   "display_name": "Python [conda env:base] *",
   "language": "python",
   "name": "conda-base-py"
  },
  "language_info": {
   "codemirror_mode": {
    "name": "ipython",
    "version": 3
   },
   "file_extension": ".py",
   "mimetype": "text/x-python",
   "name": "python",
   "nbconvert_exporter": "python",
   "pygments_lexer": "ipython3",
   "version": "3.12.7"
  }
 },
 "nbformat": 4,
 "nbformat_minor": 5
}
