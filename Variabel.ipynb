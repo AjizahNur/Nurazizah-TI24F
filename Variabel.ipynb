{
 "cells": [
  {
   "cell_type": "code",
   "execution_count": 20,
   "id": "45979e87",
   "metadata": {},
   "outputs": [
    {
     "name": "stdout",
     "output_type": "stream",
     "text": [
      "Nama : Azizah\n",
      "Umur : 20\n",
      "Alamat : Jl. Cibolang\n",
      "Provinsi : 7413412\n",
      "Nilai Pemrograman : 90.0\n",
      "Status Menikah : False\n"
     ]
    }
   ],
   "source": [
    "name = \"Azizah\"\n",
    "age = 20\n",
    "address,province = \"Jl. Cibolang\",\"7413412\"\n",
    "pythonScore = 90.0\n",
    "isMarried = False\n",
    "\n",
    "print(\"Nama :\",name)\n",
    "print(\"Umur :\",age)\n",
    "print(\"Alamat :\",address)\n",
    "print(\"Provinsi :\",province)\n",
    "print(\"Nilai Pemrograman :\",pythonScore)\n",
    "print(\"Status Menikah :\",isMarried)"
   ]
  },
  {
   "cell_type": "code",
   "execution_count": 15,
   "id": "9cbd7de5",
   "metadata": {},
   "outputs": [
    {
     "name": "stdout",
     "output_type": "stream",
     "text": [
      "Tipe Data (nama) : <class 'str'>\n",
      "Tipe Data (age): <class 'int'>\n",
      "Tipe Data (address) : <class 'str'>\n",
      "Tipe Data (province) : <class 'str'>\n",
      "Tipe Data (scorePython) : <class 'float'>\n",
      "Tipe Data (isMarried) : <class 'bool'>\n"
     ]
    }
   ],
   "source": [
    "print(\"Tipe Data (nama) :\",type(name))\n",
    "print(\"Tipe Data (age):\",type(age))\n",
    "print(\"Tipe Data (address) :\",type(address))\n",
    "print(\"Tipe Data (province) :\",type(province))\n",
    "print(\"Tipe Data (scorePython) :\",type(pythonScore))\n",
    "print(\"Tipe Data (isMarried) :\",type(isMarried))"
   ]
  },
  {
   "cell_type": "code",
   "execution_count": 28,
   "id": "2a3a29f1",
   "metadata": {},
   "outputs": [
    {
     "name": "stdout",
     "output_type": "stream",
     "text": [
      "7413414 7413412.0 True\n",
      "20 20.0 True\n",
      "90.0 90 True\n",
      "False 0 0.0\n"
     ]
    }
   ],
   "source": [
    "#Casting atau Konversi Tipe Data\n",
    "\n",
    "strToInt = int(province)\n",
    "strToFloat = float(province)\n",
    "strToBool = bool(province)\n",
    "print(strToInt+2,strToFloat,strToBool)\n",
    "\n",
    "intToStr = str(age)\n",
    "intToFloat = float(age)\n",
    "intToBool = bool(age)\n",
    "print(intToStr,intToFloat,intToBool)\n",
    "      \n",
    "floatToStr = str(pythonScore)\n",
    "floatToInt = int(pythonScore)\n",
    "floatToBool = bool(pythonScore)\n",
    "print(floatToStr,floatToInt,floatToBool)\n",
    "\n",
    "boolToStr = str(isMarried)\n",
    "boolToInt = int(isMarried)\n",
    "boolToFloat = float(isMarried)\n",
    "print(boolToStr,boolToInt,boolToFloat)\n"
   ]
  },
  {
   "cell_type": "code",
   "execution_count": 35,
   "id": "61619cd6",
   "metadata": {},
   "outputs": [
    {
     "name": "stdout",
     "output_type": "stream",
     "text": [
      "S\n",
      "s\n"
     ]
    }
   ],
   "source": [
    "#String adalah kumpulan dari beberapa karakter dan immutable\n",
    "city = \"Swiss\"\n",
    "panjang = len(city)\n",
    "print(city[0])\n",
    "print(city[panjang-1])"
   ]
  },
  {
   "cell_type": "code",
   "execution_count": 36,
   "id": "9af220ec",
   "metadata": {},
   "outputs": [
    {
     "name": "stdout",
     "output_type": "stream",
     "text": [
      "Nilai desimal: 500\n",
      "Nilai biner: 10\n",
      "Nilai octal: 255\n",
      "Nilai hexa: 255\n",
      "Biner 500 : 0b111110100\n",
      "Octal 500 : 0o764\n",
      "hexa 500 : 0x1f4\n"
     ]
    }
   ],
   "source": [
    "desimal = 500\n",
    "biner = 0b1010\n",
    "octal = 0o377\n",
    "hexa = 0xff\n",
    "\n",
    "print(\"Nilai desimal:\",desimal)\n",
    "print(\"Nilai biner:\",biner)\n",
    "print(\"Nilai octal:\", octal)\n",
    "print(\"Nilai hexa:\",hexa)\n",
    "\n",
    "print(\"Biner\",desimal,\":\",bin(desimal))\n",
    "print(\"Octal\",desimal,\":\",oct(desimal))\n",
    "print(\"hexa\",desimal,\":\",hex(desimal))\n"
   ]
  },
  {
   "cell_type": "code",
   "execution_count": 50,
   "id": "30e5910d",
   "metadata": {},
   "outputs": [
    {
     "name": "stdout",
     "output_type": "stream",
     "text": [
      "['India', 'Korea', 'Jepang', 'Indonesia']\n",
      "India\n",
      "Indonesia\n",
      "['India', 'Jakarta', 'Jepang', 'Indonesia']\n",
      "('Solat', 'Membaca')\n",
      "Solat\n",
      "{'name': 'eza', 'age': 4, 'address': {'street': 'Jl. Cibolang Kaler', 'number': 23, 'province': 'kab. Sukabumi'}}\n",
      "eza\n",
      "kab. Sukabumi\n",
      "{'name': 'sehun', 'age': 25, 'adddress': {'street': 'Jl. Myongdong', 'number': 23, 'province': 'kab. Seoul'}}\n"
     ]
    }
   ],
   "source": [
    "#Tipe Data Collection \n",
    "cities = [\"India\",\"Korea\",\"Jepang\",\"Indonesia\"] #List\n",
    "print(cities)\n",
    "print(cities[0])\n",
    "print(cities[len(cities)-1])\n",
    "cities[1] = \"Jakarta\"\n",
    "print(cities)\n",
    "\n",
    "hobbies = (\"Solat\",\"Membaca\")\n",
    "print(hobbies)\n",
    "print(hobbies[0])\n",
    "#hobbies[0] = \"Watching Netflix\" error program\n",
    "studentData =  {\n",
    "    \"name\" : \"eza\",\n",
    "    \"age\" : 4,\n",
    "    \"address\" :{\n",
    "        \"street\" : \"Jl. Cibolang Kaler\",\n",
    "        \"number\" : 23,\n",
    "        \"province\" : \"kab. Sukabumi\"\n",
    "    }\n",
    "}\n",
    "print(studentData)\n",
    "print(studentData[\"name\"])\n",
    "print(studentData[\"address\"] [\"province\"])\n",
    "\n",
    "print(studentList[1])\n",
    "\n",
    "myList = [\n",
    "    {\n",
    "    \"name\" : \"sehun\",\n",
    "    \"age\" : 25,\n",
    "    \"address\" :{\n",
    "        \"street\" : \"Jl. Myoungdong\",\n",
    "        \"number\" : 23,\n",
    "        \"province\" : \"kab. Seoul\"\n",
    "    }\n",
    "    }\n",
    "]"
   ]
  },
  {
   "cell_type": "code",
   "execution_count": null,
   "id": "2f7072e8",
   "metadata": {},
   "outputs": [],
   "source": []
  },
  {
   "cell_type": "code",
   "execution_count": null,
   "id": "3de9d391",
   "metadata": {},
   "outputs": [],
   "source": []
  }
 ],
 "metadata": {
  "kernelspec": {
   "display_name": "Python 3 (ipykernel)",
   "language": "python",
   "name": "python3"
  },
  "language_info": {
   "codemirror_mode": {
    "name": "ipython",
    "version": 3
   },
   "file_extension": ".py",
   "mimetype": "text/x-python",
   "name": "python",
   "nbconvert_exporter": "python",
   "pygments_lexer": "ipython3",
   "version": "3.9.12"
  }
 },
 "nbformat": 4,
 "nbformat_minor": 5
}
