{
 "cells": [
  {
   "cell_type": "markdown",
   "id": "8f4192e0",
   "metadata": {},
   "source": [
    "<B>Operator Aritmatika</B>"
   ]
  },
  {
   "cell_type": "code",
   "execution_count": null,
   "id": "98355bf9",
   "metadata": {},
   "outputs": [],
   "source": [
    "x = input(\"Isikan Nilai X\")\n",
    "y = input(\"Isikan Nilai Y\")\n",
    "x = int(x)\n",
    "y = int(y)\n",
    "hasilTambah = x + y\n",
    "hasilKurang = x - y\n",
    "hasilKali = x * y\n",
    "hasilBagi = x / y\n",
    "hasilMod = x % y\n",
    "hasilPangkat = x ** y \n",
    "hasilDiv = x // y\n",
    "\n",
    "print(\"Hasil Penjumlahan\",x,\"+\",y,\"=\",hasilTambah)\n",
    "print(\"Hasil Pengurangan\",x,\"-\",y,\"=\",hasilKurang)\n",
    "print(\"Hasil Perkalian\",x,\"*\",y,\"=\",hasilKali)\n",
    "print(\"Hasil Pembagian\",x,\"/\",y,\"=\",hasilBagi)\n",
    "print(\"Hasil Modulus\",x,\"%\",y,\"=\",hasilMod)\n",
    "print(\"Hasil Pangkat\",x,\"**\",y,\"=\",hasilPangkat)\n",
    "print(\"Hasil Pembagian Bulat\",x,\"//\",y,\"=\",hasilDiv)"
   ]
  },
  {
   "cell_type": "markdown",
   "id": "3a3ac3fc",
   "metadata": {},
   "source": [
    "<B>Operator Penugasan</B>"
   ]
  },
  {
   "cell_type": "code",
   "execution_count": 19,
   "id": "7dd56366",
   "metadata": {},
   "outputs": [
    {
     "name": "stdout",
     "output_type": "stream",
     "text": [
      "isikan Nilai Awal:5\n",
      "Nilai Awal : 5\n",
      "Setelah ditambah 3= 8\n",
      "Kemudian dikuran dengan 5= 3\n",
      "Selanjutnya dikali dengan 3= 9\n",
      "Proses terakhir dibagi dengan 2= 4.5\n"
     ]
    }
   ],
   "source": [
    "nilaiAwal = int(input(\"isikan Nilai Awal:\"))\n",
    "print(\"Nilai Awal :\",nilaiAwal)\n",
    "nilaiAwal+=3\n",
    "print(\"Setelah ditambah 3=\",nilaiAwal)\n",
    "nilaiAwal-=5\n",
    "print(\"Kemudian dikuran dengan 5=\",nilaiAwal)\n",
    "nilaiAwal*=3\n",
    "print(\"Selanjutnya dikali dengan 3=\",nilaiAwal)\n",
    "nilaiAwal/=2\n",
    "print(\"Proses terakhir dibagi dengan 2=\",nilaiAwal)"
   ]
  },
  {
   "cell_type": "markdown",
   "id": "133d9d96",
   "metadata": {},
   "source": [
    "<B>Operator Perbandingan</B>"
   ]
  },
  {
   "cell_type": "code",
   "execution_count": 5,
   "id": "89edf879",
   "metadata": {},
   "outputs": [
    {
     "name": "stdout",
     "output_type": "stream",
     "text": [
      "Isikan Nilai fVal :23\n",
      "Isikan Nilai sVal :2\n",
      "23 = 2 False\n",
      "23 != 2 True\n",
      "23 > 2 True\n",
      "23 < 2 False\n",
      "23 > 2 True\n",
      "23 < 2 False\n"
     ]
    }
   ],
   "source": [
    "fVal = int(input(\"Isikan Nilai fVal :\"))\n",
    "sVal = int(input(\"Isikan Nilai sVal :\"))\n",
    "\n",
    "print(fVal,\"=\",sVal,fVal==sVal)\n",
    "print(fVal,\"!=\",sVal,fVal!=sVal)\n",
    "print(fVal,\">\",sVal,fVal>sVal)\n",
    "print(fVal,\"<\",sVal,fVal<sVal)\n",
    "print(fVal,\">\",sVal,fVal>=sVal)\n",
    "print(fVal,\"<\",sVal,fVal<=sVal)"
   ]
  },
  {
   "cell_type": "markdown",
   "id": "f6ba9ec8",
   "metadata": {},
   "source": [
    "<B>Operator Logika</B>"
   ]
  },
  {
   "cell_type": "code",
   "execution_count": 9,
   "id": "836a5c14",
   "metadata": {},
   "outputs": [
    {
     "name": "stdout",
     "output_type": "stream",
     "text": [
      "Isikan Bilangan 1:8\n",
      "isikan Bilangan 2:5\n",
      "Bilangan 1: 8\n",
      "Bilangan 2: 5\n",
      "Apakah Bil. 1 mod 2 = 0 dan Bilangan 2 lebih besar dari 3? True\n",
      "Apakah Bil. 1 mod 2 = 0 dan Bilangan 2 lebih besar dari 3? True\n",
      "Apakah Bil. 1 mod 2 = 0 dan Bilangan 2 lebih besar dari 3? False\n"
     ]
    }
   ],
   "source": [
    "num_1 = int(input(\"Isikan Bilangan 1:\"))\n",
    "num_2 = int(input(\"isikan Bilangan 2:\"))\n",
    "\n",
    "print(\"Bilangan 1:\",num_1)\n",
    "print(\"Bilangan 2:\",num_2)\n",
    "\n",
    "print(\"Apakah Bil. 1 mod 2 = 0 dan Bilangan 2 lebih besar dari 3?\",num_1 % 2==0 and num_2 > 3)\n",
    "print(\"Apakah Bil. 1 mod 2 = 0 dan Bilangan 2 lebih besar dari 3?\",num_1 % 2==0 or num_2 > 3)\n",
    "print(\"Apakah Bil. 1 mod 2 = 0 dan Bilangan 2 lebih besar dari 3?\",not(num_1 % 2==0 or num_2 > 3))\n"
   ]
  },
  {
   "cell_type": "markdown",
   "id": "23fa17d9",
   "metadata": {},
   "source": [
    "<B>Operator Identitas</B>"
   ]
  },
  {
   "cell_type": "code",
   "execution_count": 13,
   "id": "27cb3d44",
   "metadata": {},
   "outputs": [
    {
     "name": "stdout",
     "output_type": "stream",
     "text": [
      "True\n",
      "False\n",
      "True\n",
      "Memory Address dari vall 1894604012848\n",
      "Memory Address dari val2 1894593227344\n",
      "Memory Address dari val3 1894593227344\n"
     ]
    },
    {
     "name": "stderr",
     "output_type": "stream",
     "text": [
      "<>:1: SyntaxWarning: \"is\" with a literal. Did you mean \"==\"?\n",
      "<>:1: SyntaxWarning: \"is\" with a literal. Did you mean \"==\"?\n",
      "C:\\Users\\komputer 23\\AppData\\Local\\Temp\\ipykernel_5148\\3643100705.py:1: SyntaxWarning: \"is\" with a literal. Did you mean \"==\"?\n",
      "  print(\"Ajzh\" is \"Ajzh\")\n"
     ]
    }
   ],
   "source": [
    "print(\"Ajzh\" is \"Ajzh\")\n",
    "val1 = \"10\"\n",
    "val2 = 10\n",
    "val3 = val2\n",
    "print(val1 is val2)\n",
    "print(val1 is not val2)\n",
    "\n",
    "print(\"Memory Address dari vall\",id(val1))\n",
    "print(\"Memory Address dari val2\",id(val2))\n",
    "print(\"Memory Address dari val3\",id(val3))"
   ]
  },
  {
   "cell_type": "markdown",
   "id": "1c840a56",
   "metadata": {},
   "source": [
    "<B>Operator Keanggotaan</B>"
   ]
  },
  {
   "cell_type": "code",
   "execution_count": 15,
   "id": "7afdcd25",
   "metadata": {},
   "outputs": [
    {
     "name": "stdout",
     "output_type": "stream",
     "text": [
      "False\n",
      "True\n"
     ]
    }
   ],
   "source": [
    "find = [\"Ajzh\"]\n",
    "daftarMahasiswa = [\"Aca\",\"Ica\",\"Ara\",\"Mifta\",\"Nai\"]\n",
    "\n",
    "print(find in daftarMahasiswa)\n",
    "print(find not in daftarMahasiswa)"
   ]
  },
  {
   "cell_type": "markdown",
   "id": "7a5dbce6",
   "metadata": {},
   "source": [
    "<B>Operator Bitwise</B>"
   ]
  },
  {
   "cell_type": "code",
   "execution_count": 17,
   "id": "66fe7134",
   "metadata": {},
   "outputs": [
    {
     "name": "stdout",
     "output_type": "stream",
     "text": [
      "Isikan Nilai 1:23\n",
      "Isikan Nilai 2:31\n",
      "23\n",
      "31\n",
      "8\n",
      "49392123904\n",
      "0\n"
     ]
    }
   ],
   "source": [
    "desimal1 = int(input(\"Isikan Nilai 1:\"))\n",
    "desimal2 = int(input(\"Isikan Nilai 2:\"))\n",
    "\n",
    "print(desimal1 & desimal2)\n",
    "print(desimal1 | desimal2)\n",
    "print(desimal1 ^ desimal2)\n",
    "print(desimal1 << desimal2)\n",
    "print(desimal1 >> desimal2)"
   ]
  },
  {
   "cell_type": "code",
   "execution_count": null,
   "id": "de7e97b6",
   "metadata": {},
   "outputs": [],
   "source": []
  }
 ],
 "metadata": {
  "kernelspec": {
   "display_name": "Python [conda env:base] *",
   "language": "python",
   "name": "conda-base-py"
  },
  "language_info": {
   "codemirror_mode": {
    "name": "ipython",
    "version": 3
   },
   "file_extension": ".py",
   "mimetype": "text/x-python",
   "name": "python",
   "nbconvert_exporter": "python",
   "pygments_lexer": "ipython3",
   "version": "3.12.7"
  }
 },
 "nbformat": 4,
 "nbformat_minor": 5
}
