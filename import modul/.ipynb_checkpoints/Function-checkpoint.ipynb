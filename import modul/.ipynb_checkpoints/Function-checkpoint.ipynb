{
 "cells": [
  {
   "cell_type": "code",
   "execution_count": 9,
   "id": "536adc50-328b-4d4d-87b9-c1bdcbd82455",
   "metadata": {},
   "outputs": [
    {
     "name": "stdout",
     "output_type": "stream",
     "text": [
      "Hallo, Aramyoun?\n",
      "Gimana Hari ini happy ga?\n",
      "Hallo, Aramyoun?\n",
      "Gimana Hari ini happy ga?\n"
     ]
    }
   ],
   "source": [
    "#Fungsi tanpa parameter\n",
    "def greeting():\n",
    "    print(\"Hallo, Aramyoun?\")\n",
    "    print(\"Gimana Hari ini happy ga?\")\n",
    "greeting()\n",
    "greeting()"
   ]
  },
  {
   "cell_type": "code",
   "execution_count": 17,
   "id": "9d23b6f1-47a1-48e7-8e66-a020cb6c24f7",
   "metadata": {},
   "outputs": [
    {
     "name": "stdout",
     "output_type": "stream",
     "text": [
      "sekarang tanggal:2025-05-27\n",
      "Sekarang Weekday\n"
     ]
    }
   ],
   "source": [
    "import datetime\n",
    "def showDate():\n",
    "    today = datetime.date.today()\n",
    "    print(f\"sekarang tanggal:{today}\")\n",
    "\n",
    "def isWeekend():\n",
    "    today = datetime.date.today().weekday()\n",
    "    if today < 5:\n",
    "        print(\"Sekarang Weekday\")\n",
    "    else:\n",
    "        print(\"Sekarang Weekend\")\n",
    "    \n",
    "showDate()\n",
    "isWeekend()"
   ]
  },
  {
   "cell_type": "code",
   "execution_count": 21,
   "id": "1adea620-eb66-42d0-b9ab-e72a2677e86c",
   "metadata": {},
   "outputs": [
    {
     "name": "stdout",
     "output_type": "stream",
     "text": [
      "Andi Fahmi Robi\n",
      "Andi Fahmi Robi, S.kom\n"
     ]
    }
   ],
   "source": [
    "#Fungsi dengan parameter, tidak ada return value\n",
    "def getFullName(first,middle,last):\n",
    "    print(f\"{first} {middle} {last}\")\n",
    "\n",
    "#Fungsi dengan parameter dan return value\n",
    "def getName(first,middle,last):\n",
    "    return f\"{first} {middle} {last}\"\n",
    "    \n",
    "getFullName(\"Andi\",\"Fahmi\",\"Robi\")\n",
    "myname = getName(\"Andi\",\"Fahmi\",\"Robi\")\n",
    "title = \"S.kom\"\n",
    "print(f\"{myname}, {title}\")\n",
    "\n"
   ]
  },
  {
   "cell_type": "code",
   "execution_count": 31,
   "id": "a5d5f598-245d-4dc2-b4cd-3f06d46478af",
   "metadata": {},
   "outputs": [
    {
     "name": "stdout",
     "output_type": "stream",
     "text": [
      "Hasil penjumlahan 10 dan 3:13\n",
      "Hasil perkalian 3 dan 5:15\n",
      "Hasil penjumlahan 13 dan 15:28\n"
     ]
    }
   ],
   "source": [
    "#Fungsi aritmatika\n",
    "def add(num1, num2):\n",
    "    return num1 + num2\n",
    "\n",
    "def multiply(num1, num2):\n",
    "    return num1 * num2\n",
    "\n",
    "r1 = add(10,3) #13\n",
    "r2 = multiply(3,5) #15\n",
    "r3 = add(r1,r2) #28\n",
    "\n",
    "print(f\"Hasil penjumlahan 10 dan 3:{r1}\")\n",
    "print(f\"Hasil perkalian 3 dan 5:{r2}\")\n",
    "print(f\"Hasil penjumlahan {r1} dan {r2}:{r3}\")\n"
   ]
  },
  {
   "cell_type": "code",
   "execution_count": 35,
   "id": "d9417389-d91b-4941-b82a-bbc1cf0c1a6d",
   "metadata": {},
   "outputs": [
    {
     "name": "stdout",
     "output_type": "stream",
     "text": [
      "Hasil penjumlahan:17\n",
      "Hasil perkalian:70\n"
     ]
    }
   ],
   "source": [
    "#Fungsi dengan return lebih dari 1\n",
    "def aritmatic(num1,num2):\n",
    "    add = num1 + num2\n",
    "    multiply = num1 * num2\n",
    "    return add,multiply\n",
    "\n",
    "tambah, kali = aritmatic(7,10)\n",
    "print(f\"Hasil penjumlahan:{tambah}\")\n",
    "print(f\"Hasil perkalian:{kali}\")"
   ]
  },
  {
   "cell_type": "code",
   "execution_count": 47,
   "id": "0908ec9f-8d91-4916-ac9f-60a97aa9b496",
   "metadata": {},
   "outputs": [
    {
     "name": "stdout",
     "output_type": "stream",
     "text": [
      "Registration is successfull\n",
      "Username:ajizah\n",
      "Password:123456\n",
      "Email:ajzh23@gmail.com\n",
      "Status:Belum aktif\n",
      "\n",
      "Registration is successfull\n",
      "Username:ajizah\n",
      "Password:123456\n",
      "Email:ajzh23@gmail.com\n",
      "Status:Aktif\n",
      "\n",
      "Registration is successfull\n",
      "Username:ajizah\n",
      "Password:123456\n",
      "Email:ajzh23@gmail.com\n",
      "Status:Aktif\n",
      "\n",
      "Registration is successfull\n",
      "Username:ajizah\n",
      "Password:123456\n",
      "Email:ajzh23@gmail.com\n",
      "Status:Aktif\n",
      "\n"
     ]
    }
   ],
   "source": [
    "#Fungsi dengan nilai default\n",
    "def userRegistration(email,username,password,status=\"Belum aktif\"):\n",
    "    result = \"\"\n",
    "    if (len(username)> 3):\n",
    "        if(len(password)>5):\n",
    "            result += f\"Registration is successfull\\n\"\n",
    "            result += f\"Username:{username}\\n\"\n",
    "            result += f\"Password:{password}\\n\"\n",
    "            result += f\"Email:{email}\\n\"\n",
    "            result += f\"Status:{status}\\n\"\n",
    "            return result\n",
    "        else:\n",
    "            return \"registration failed (Username must be more than 5)\"\n",
    "    else:\n",
    "        return \"registration failed (Username must be more than 3)\"\n",
    "\n",
    "print(userRegistration(\"ajzh23@gmail.com\",\"ajizah\",\"123456\"))\n",
    "print(userRegistration(\"ajzh23@gmail.com\",\"ajizah\",\"123456\",\"Aktif\"))\n",
    "print(userRegistration(\"ajzh23@gmail.com\",\"ajizah\",\"123456\",\"Aktif\"))\n",
    "print(userRegistration(\"ajzh23@gmail.com\",\"ajizah\",\"123456\",\"Aktif\"))"
   ]
  },
  {
   "cell_type": "code",
   "execution_count": 5,
   "id": "10354f42-6faa-4303-bc57-9971357cf66b",
   "metadata": {},
   "outputs": [
    {
     "name": "stdout",
     "output_type": "stream",
     "text": [
      "registration failed (Username must be more than 5)\n",
      "\n"
     ]
    }
   ],
   "source": [
    "#Fungsi dengan nilai default\n",
    "def checkPassword(password):\n",
    "    result = \"\"\n",
    "    if (len(password)<=5):\n",
    "        result = \"registration failed (Username must be more than 5)\\n\"\n",
    "    return result\n",
    "\n",
    "def checkUsername(username):\n",
    "    result=\"\"\n",
    "    if (len(username)<=4):\n",
    "        result = \"registration failed (Username must be more than 3)\\n\"\n",
    "    return result\n",
    "            \n",
    "def userRegistration(email,username,password,status=\"Belum aktif\"):\n",
    "    user = checkUsername(username)\n",
    "    pwd = checkPassword(password)\n",
    "    result = \"\"\n",
    "    if(len(user) > 0):\n",
    "        result +=user\n",
    "        \n",
    "    if(len(pwd) > 0):\n",
    "        result +=pwd\n",
    "\n",
    "    if(len(result)==0):\n",
    "        result += f\"Registration is successfull\\n\"\n",
    "        result += f\"Username:{username}\\n\"\n",
    "        result += f\"Password:{password}\\n\"\n",
    "        result += f\"Email:{email}\\n\"\n",
    "        result += f\"Status:{status}\\n\"\n",
    "    return result\n",
    "\n",
    "print(userRegistration(\"ajzh23@gmail.com\",\"ajizah\",\"1234\",\"Aktif\"))"
   ]
  },
  {
   "cell_type": "code",
   "execution_count": 1,
   "id": "f6a52b07-c161-4ad4-9c07-6fbabd37562b",
   "metadata": {},
   "outputs": [
    {
     "name": "stdin",
     "output_type": "stream",
     "text": [
      "Angka 1:  1\n",
      "Angka 2:  1\n"
     ]
    },
    {
     "name": "stdout",
     "output_type": "stream",
     "text": [
      "2\n",
      "1\n",
      "1\n"
     ]
    }
   ],
   "source": [
    "import Aritmatika.math as math\n",
    "angka1 = int(input(\"Angka 1: \"))\n",
    "angka2 = int(input(\"Angka 2: \"))\n",
    "\n",
    "r1 = math.add(angka1, angka2)\n",
    "r2 = math.multiply(angka1, angka2)\n",
    "r3 = math.pow(angka1, angka2)\n",
    "\n",
    "print(r1)\n",
    "print(r2)\n",
    "print(r3)"
   ]
  },
  {
   "cell_type": "code",
   "execution_count": null,
   "id": "0adfdbfe-b661-401d-a793-c21696281321",
   "metadata": {},
   "outputs": [],
   "source": []
  }
 ],
 "metadata": {
  "kernelspec": {
   "display_name": "Python [conda env:base] *",
   "language": "python",
   "name": "conda-base-py"
  },
  "language_info": {
   "codemirror_mode": {
    "name": "ipython",
    "version": 3
   },
   "file_extension": ".py",
   "mimetype": "text/x-python",
   "name": "python",
   "nbconvert_exporter": "python",
   "pygments_lexer": "ipython3",
   "version": "3.12.7"
  }
 },
 "nbformat": 4,
 "nbformat_minor": 5
}
