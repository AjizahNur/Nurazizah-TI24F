{
 "cells": [
  {
   "cell_type": "code",
   "execution_count": 4,
   "id": "5804fc9a",
   "metadata": {},
   "outputs": [
    {
     "name": "stdout",
     "output_type": "stream",
     "text": [
      "Isikan Umur Anda :60\n",
      "Kategori : Lansia\n"
     ]
    }
   ],
   "source": [
    "usia = int(input(\"Isikan Umur Anda :\"))\n",
    "\n",
    "if usia >=0:\n",
    "    if usia <= 12:\n",
    "        print(\"Kategori : Anak\")\n",
    "    elif usia <=17:\n",
    "        print(\"Kategori : Remaja\")\n",
    "    elif usia <=59:\n",
    "        print(\"Kategori : Dewasa\")\n",
    "    else:\n",
    "        print(\"Kategori : Lansia\")\n",
    "    \n",
    "else:\n",
    "    print(\"Umur Tidak Valid\")\n",
    "\n"
   ]
  },
  {
   "cell_type": "code",
   "execution_count": 3,
   "id": "a606876e",
   "metadata": {},
   "outputs": [
    {
     "name": "stdout",
     "output_type": "stream",
     "text": [
      "Isikan Umur Tiket 1:23\n",
      "Isikan Umur Tiket 2:31\n",
      "Isikan Umur Tiket 3:60\n",
      "Tiket 1 : 25000\n",
      "Tiket 2 : 25000\n",
      "Tiket 3 : Gratis\n"
     ]
    }
   ],
   "source": [
    "tiket1 = int(input(\"Isikan Umur Tiket 1:\"))\n",
    "tiket2 = int(input(\"Isikan Umur Tiket 2:\"))\n",
    "tiket3 = int(input(\"Isikan Umur Tiket 3:\"))\n",
    "\n",
    "totalBiaya = 0\n",
    "if tiket1 <13:\n",
    "    print(\"Tiket 1 : 10000\")\n",
    "    totalBiaya = totalBiaya + 10000\n",
    "elif tiket1 <18:\n",
    "    print(\"Tiket 1 : 15000\")\n",
    "    totalBiaya = totalBiaya + 15000\n",
    "elif tiket1 <60:\n",
    "    print(\"Tiket 1 : 25000\")\n",
    "    totalBiaya = totalBiaya + 25000\n",
    "else:\n",
    "    print(\"Tiket 1 : Gratis\")\n",
    "    \n",
    "##########################################\n",
    "\n",
    "totalBiaya = 0\n",
    "if tiket2 <13:\n",
    "    print(\"Tiket 2 : 10000\")\n",
    "    totalBiaya = totalBiaya + 10000\n",
    "elif tiket2 <18:\n",
    "    print(\"Tiket 2 : 15000\")\n",
    "    totalBiaya = totalBiaya + 15000\n",
    "elif tiket2 <60:\n",
    "    print(\"Tiket 2 : 25000\")\n",
    "    totalBiaya = totalBiaya + 25000\n",
    "else:\n",
    "    print(\"Tiket 2 : Gratis\")\n",
    "    \n",
    "###########################################\n",
    "\n",
    "totalBiaya = 0\n",
    "if tiket3 <13:\n",
    "    print(\"Tiket 3 : 10000\")\n",
    "    totalBiaya = totalBiaya + 10000\n",
    "elif tiket3 <18:\n",
    "    print(\"Tiket 3 : 15000\")\n",
    "    totalBiaya = totalBiaya + 15000\n",
    "elif tiket3 <60:\n",
    "    print(\"Tiket 3 : 25000\")\n",
    "    totalBiaya = totalBiaya + 25000\n",
    "else:\n",
    "    print(\"Tiket 3 : Gratis\")\n",
    "    "
   ]
  },
  {
   "cell_type": "code",
   "execution_count": 22,
   "id": "8e62c508",
   "metadata": {},
   "outputs": [
    {
     "name": "stdout",
     "output_type": "stream",
     "text": [
      "Masukin Nilai Rapor80\n",
      "Isikan Penghasilan Ortuajzh\n"
     ]
    },
    {
     "ename": "ValueError",
     "evalue": "invalid literal for int() with base 10: 'ajzh'",
     "output_type": "error",
     "traceback": [
      "\u001b[1;31m---------------------------------------------------------------------------\u001b[0m",
      "\u001b[1;31mValueError\u001b[0m                                Traceback (most recent call last)",
      "Input \u001b[1;32mIn [22]\u001b[0m, in \u001b[0;36m<cell line: 2>\u001b[1;34m()\u001b[0m\n\u001b[0;32m      1\u001b[0m nilaiRapor \u001b[38;5;241m=\u001b[39m \u001b[38;5;28mint\u001b[39m(\u001b[38;5;28minput\u001b[39m(\u001b[38;5;124m\"\u001b[39m\u001b[38;5;124mMasukin Nilai Rapor\u001b[39m\u001b[38;5;124m\"\u001b[39m))\n\u001b[1;32m----> 2\u001b[0m penghasilanOrtu \u001b[38;5;241m=\u001b[39m \u001b[38;5;28;43mint\u001b[39;49m\u001b[43m(\u001b[49m\u001b[38;5;28;43minput\u001b[39;49m\u001b[43m(\u001b[49m\u001b[38;5;124;43m\"\u001b[39;49m\u001b[38;5;124;43mIsikan Penghasilan Ortu\u001b[39;49m\u001b[38;5;124;43m\"\u001b[39;49m\u001b[43m)\u001b[49m\u001b[43m)\u001b[49m\n\u001b[0;32m      4\u001b[0m \u001b[38;5;28;01mif\u001b[39;00m nilaiRapor \u001b[38;5;241m>\u001b[39m\u001b[38;5;241m=\u001b[39m \u001b[38;5;241m90\u001b[39m \u001b[38;5;129;01mand\u001b[39;00m penghasilanOrtu \u001b[38;5;241m>\u001b[39m\u001b[38;5;241m5_000_000\u001b[39m:\n\u001b[0;32m      5\u001b[0m     \u001b[38;5;28mprint\u001b[39m(\u001b[38;5;124m\"\u001b[39m\u001b[38;5;124mMendapatkan Beasiswa Penuh\u001b[39m\u001b[38;5;124m\"\u001b[39m)\n",
      "\u001b[1;31mValueError\u001b[0m: invalid literal for int() with base 10: 'ajzh'"
     ]
    }
   ],
   "source": [
    "nilaiRapor = int(input(\"Masukin Nilai Rapor\"))\n",
    "penghasilanOrtu = int(input(\"Isikan Penghasilan Ortu\"))\n",
    "\n",
    "if nilaiRapor >= 90 and penghasilanOrtu >5_000_000:\n",
    "    print(\"Mendapatkan Beasiswa Penuh\")\n",
    "elif nilaiRapor >= 85 and penghasilanOrtu <8_000_000:\n",
    "    print (\"Mendapatkan Beasiswa 50%\")\n",
    "else:\n",
    "    print(\"Tidak Mendapatkan Beasiswa\")"
   ]
  },
  {
   "cell_type": "code",
   "execution_count": 19,
   "id": "db7eb880",
   "metadata": {},
   "outputs": [
    {
     "name": "stdout",
     "output_type": "stream",
     "text": [
      "Isikan motor/mobil:motor\n",
      "Jam Masuk:3\n",
      "Jam Keluar:30\n",
      "Tarif motor: 2000\n",
      "Lama Parkir: 27 jam\n",
      "Tambahan Biaya Lebih 5 Jam: 10000\n",
      "Total Tarif Parkir: 64000\n"
     ]
    }
   ],
   "source": [
    "jenisKendaraan = input(\"Isikan motor/mobil:\")\n",
    "jamMasuk = int(input(\"Jam Masuk:\"))\n",
    "jamKeluar = int(input(\"Jam Keluar:\"))\n",
    "\n",
    "tarifPerJam = 0\n",
    "if jenisKendaraan == \"motor\":\n",
    "    tarifPerJam = 2000\n",
    "elif jenisKendaraan == \"mobil\":\n",
    "    tarifperjam = 5000\n",
    "else:\n",
    "    print(\"Tidak Menerima selain mobil atau motor\")\n",
    "    \n",
    "if jamMasuk >= jamKeluar:\n",
    "    print(\"Input Jam Masuk/Jam Keluar Salah!\")\n",
    "else:\n",
    "    totalTarif = (jamKeluar - jamMasuk)*tarifPerJam\n",
    "    \n",
    "print(f\"Tarif {jenisKendaraan}: {tarifPerJam}\")\n",
    "print(f\"Lama Parkir: {jamKeluar-jamMasuk} jam\")\n",
    "\n",
    "if jamKeluar - jamMasuk > 5:\n",
    "            totalTarif += 10000\n",
    "print(\"Tambahan Biaya Lebih 5 Jam: 10000\")\n",
    "print(f\"Total Tarif Parkir: {totalTarif}\")"
   ]
  },
  {
   "cell_type": "code",
   "execution_count": 12,
   "id": "fd7d980b",
   "metadata": {},
   "outputs": [
    {
     "name": "stdout",
     "output_type": "stream",
     "text": [
      "Nomor Punggung23\n",
      "Kamu mempunyai pilihan posisi : (posisi)\n"
     ]
    }
   ],
   "source": [
    "nomorPunggung = int(input(\"Nomor Punggung\"))\n",
    "posisi = \"\"\n",
    "if nomorPunggung % 2 == 0:\n",
    "    posisi += \"Target Attacker,\"\n",
    "    if nomorPunggung >=50 and nomorPunggung <= 100:\n",
    "        posisi += \"Berhak dipilih menjadi Capten,\"\n",
    "else: \n",
    "    posisi += \"Defender,\"\n",
    "    if nomorPunggung > 90:\n",
    "        posisi += \"Playmaker,\"\n",
    "    if nomorPunggung % 3 == 0 and nomorPunggung % 5 == 0:\n",
    "        posisi += \"keeper\"\n",
    "print(f\"Kamu mempunyai pilihan posisi : (posisi)\")"
   ]
  },
  {
   "cell_type": "code",
   "execution_count": 20,
   "id": "982ac02e",
   "metadata": {},
   "outputs": [
    {
     "name": "stdout",
     "output_type": "stream",
     "text": [
      "Masukkan nilai coding (0-100): 80\n",
      "Masukkan nilai interview (A/B/C/dll): b\n",
      "Selamat Kamu Berhasil Menjadi Calon Programmer\n"
     ]
    }
   ],
   "source": [
    "nilaiCoding = int(input(\"Masukkan nilai coding (0-100): \"))\n",
    "nilaiInterview = input(\"Masukkan nilai interview (A/B/C/dll): \").upper()\n",
    "\n",
    "if nilaiCoding > 80:\n",
    "    hasilCoding = \"LOLOS\"\n",
    "elif 60 <= nilaiCoding <= 80:\n",
    "    hasilCoding = \"DIPERTIMBANGKAN\"\n",
    "else:\n",
    "    hasilCoding = \"GAGAL\"\n",
    "\n",
    "if nilaiInterview == \"A\" or nilaiInterview == \"B\":\n",
    "    hasilInterview = \"LOLOS\"\n",
    "else:\n",
    "    hasilInterview = \"GAGAL\"\n",
    "\n",
    "if (hasilCoding == \"LOLOS\" or hasilCoding == \"DIPERTIMBANGKAN\") and hasilInterview == \"LOLOS\":\n",
    "    print(\"Selamat Kamu Berhasil Menjadi Calon Programmer\")\n",
    "else:\n",
    "    print(\"Maaf Kamu Belum Berhasil Menjadi Calon Programmer\")"
   ]
  },
  {
   "cell_type": "code",
   "execution_count": null,
   "id": "f723baf5",
   "metadata": {},
   "outputs": [],
   "source": []
  }
 ],
 "metadata": {
  "kernelspec": {
   "display_name": "Python 3 (ipykernel)",
   "language": "python",
   "name": "python3"
  },
  "language_info": {
   "codemirror_mode": {
    "name": "ipython",
    "version": 3
   },
   "file_extension": ".py",
   "mimetype": "text/x-python",
   "name": "python",
   "nbconvert_exporter": "python",
   "pygments_lexer": "ipython3",
   "version": "3.9.12"
  }
 },
 "nbformat": 4,
 "nbformat_minor": 5
}
