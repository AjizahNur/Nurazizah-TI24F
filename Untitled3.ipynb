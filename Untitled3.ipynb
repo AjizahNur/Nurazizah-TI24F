{
 "cells": [
  {
   "cell_type": "code",
   "execution_count": null,
   "id": "791dc723-5c42-4add-875e-ea837513ac58",
   "metadata": {},
   "outputs": [],
   "source": []
  }
 ],
 "metadata": {
  "kernelspec": {
   "display_name": "",
   "name": ""
  },
  "language_info": {
   "name": ""
  }
 },
 "nbformat": 4,
 "nbformat_minor": 5
}
