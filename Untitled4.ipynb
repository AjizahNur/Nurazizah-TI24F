{
 "cells": [
  {
   "cell_type": "code",
   "execution_count": 6,
   "id": "5a20537e-510d-4785-928a-10349a640698",
   "metadata": {},
   "outputs": [
    {
     "ename": "SyntaxError",
     "evalue": "invalid syntax (1184285366.py, line 4)",
     "output_type": "error",
     "traceback": [
      "\u001b[1;36m  Cell \u001b[1;32mIn[6], line 4\u001b[1;36m\u001b[0m\n\u001b[1;33m    Set jumlah baris\u001b[0m\n\u001b[1;37m        ^\u001b[0m\n\u001b[1;31mSyntaxError\u001b[0m\u001b[1;31m:\u001b[0m invalid syntax\n"
     ]
    }
   ],
   "source": [
    "import pandas as pd\n",
    "import numpy as np\n",
    "\n",
    "Set jumlah baris\n",
    "n = 10000\n",
    "\n",
    "Generate data\n",
    "data = {\n",
    "    'ID': np.arange(1, n+1),\n",
    "    'Nama': np.random.choice(['Andi', 'Budi', 'Cici', 'Dina', 'Eka'], n),\n",
    "    'Umur': np.random.randint(18, 60, size=n),\n",
    "    'Jenis_Kelamin': np.random.choice(['Laki-laki', 'Perempuan'], n),\n",
    "    'Kota': np.random.choice(['Jakarta', 'Bandung', 'Surabaya', 'Medan'], n),\n",
    "    'Gaji': np.random.randint(3000000, 15000000, size=n),\n",
    "    'Status': np.random.choice(['Lajang', 'Menikah'], n),\n",
    "    'Pendidikan': np.random.choice(['SMA', 'D3', 'S1', 'S2'], n),\n",
    "    'Jam_Kerja': np.random.randint(4, 10, size=n),\n",
    "    'Departemen': np.random.choice(['IT', 'HRD', 'Finance', 'Marketing'], n)\n",
    "}\n",
    "\n",
    "df = pd.DataFrame(data)\n",
    "\n",
    "Tampilkan karakteristik data\n",
    "print(df.info())\n",
    "print(\"\\nStatistik Deskriptif:\")\n",
    "print(df.describe(include='all'))"
   ]
  },
  {
   "cell_type": "code",
   "execution_count": null,
   "id": "bc8be0fc-0a36-499d-b2b5-e583b035808d",
   "metadata": {},
   "outputs": [],
   "source": []
  }
 ],
 "metadata": {
  "kernelspec": {
   "display_name": "Python [conda env:base] *",
   "language": "python",
   "name": "conda-base-py"
  },
  "language_info": {
   "codemirror_mode": {
    "name": "ipython",
    "version": 3
   },
   "file_extension": ".py",
   "mimetype": "text/x-python",
   "name": "python",
   "nbconvert_exporter": "python",
   "pygments_lexer": "ipython3",
   "version": "3.12.7"
  }
 },
 "nbformat": 4,
 "nbformat_minor": 5
}
