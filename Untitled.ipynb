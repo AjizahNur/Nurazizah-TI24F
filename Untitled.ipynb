{
 "cells": [
  {
   "cell_type": "code",
   "execution_count": null,
   "id": "c6f4942d",
   "metadata": {},
   "outputs": [],
   "source": [
    "usia = int(input(\"Isikan Umur Anda :\"))\n",
    "\n",
    "if usia >=0:\n",
    "    if usia <= 12:\n",
    "        print(\"Kategori : Anak\")\n",
    "    elif usia <=17:\n",
    "        print(\"Kategori : Remaja\")\n",
    "    elif usia <=59:\n",
    "        print(\"Kategori : Dewasa\")\n",
    "    else:\n",
    "        print(\"Kategori : Lansia\")\n",
    "    \n",
    "else:\n",
    "    print(\"Umur Tidak Valid\")\n"
   ]
  },
  {
   "cell_type": "code",
   "execution_count": null,
   "id": "54ae0613",
   "metadata": {},
   "outputs": [],
   "source": [
    "tiket1 = int(input(\"Isikan Umur Tiket 1:\"))\n",
    "tiket2 = int(input(\"Isikan Umur Tiket 2:\"))\n",
    "tiket3 = int(input(\"Isikan Umur Tiket 3:\"))\n",
    "\n",
    "totalBiaya = 0\n",
    "if tiket1 <13:\n",
    "    print(\"Tiket 1 : 10000\")\n",
    "    totalBiaya = totalBiaya + 10000\n",
    "elif tiket1 <18:\n",
    "    print(\"Tiket 1 : 15000\")\n",
    "    totalBiaya = totalBiaya + 15000\n",
    "elif tiket1 <60:\n",
    "    print(\"Tiket 1 : 25000\")\n",
    "    totalBiaya = totalBiaya + 25000\n",
    "else:\n",
    "    print(\"Tiket 1 : Gratis\")\n",
    "    \n",
    "##########################################\n",
    "\n",
    "totalBiaya = 0\n",
    "if tiket2 <13:\n",
    "    print(\"Tiket 2 : 10000\")\n",
    "    totalBiaya = totalBiaya + 10000\n",
    "elif tiket2 <18:\n",
    "    print(\"Tiket 2 : 15000\")\n",
    "    totalBiaya = totalBiaya + 15000\n",
    "elif tiket2 <60:\n",
    "    print(\"Tiket 2 : 25000\")\n",
    "    totalBiaya = totalBiaya + 25000\n",
    "else:\n",
    "    print(\"Tiket 2 : Gratis\")\n",
    "    \n",
    "###########################################\n",
    "\n",
    "totalBiaya = 0\n",
    "if tiket3 <13:\n",
    "    print(\"Tiket 3 : 10000\")\n",
    "    totalBiaya = totalBiaya + 10000\n",
    "elif tiket3 <18:\n",
    "    print(\"Tiket 3 : 15000\")\n",
    "    totalBiaya = totalBiaya + 15000\n",
    "elif tiket3 <60:\n",
    "    print(\"Tiket 3 : 25000\")\n",
    "    totalBiaya = totalBiaya + 25000\n",
    "else:\n",
    "    print(\"Tiket 3 : Gratis\")\n",
    "    "
   ]
  },
  {
   "cell_type": "code",
   "execution_count": null,
   "id": "83556165",
   "metadata": {},
   "outputs": [],
   "source": []
  },
  {
   "cell_type": "code",
   "execution_count": null,
   "id": "dc9cdbba",
   "metadata": {},
   "outputs": [],
   "source": []
  }
 ],
 "metadata": {
  "kernelspec": {
   "display_name": "Python 3 (ipykernel)",
   "language": "python",
   "name": "python3"
  },
  "language_info": {
   "codemirror_mode": {
    "name": "ipython",
    "version": 3
   },
   "file_extension": ".py",
   "mimetype": "text/x-python",
   "name": "python",
   "nbconvert_exporter": "python",
   "pygments_lexer": "ipython3",
   "version": "3.9.12"
  }
 },
 "nbformat": 4,
 "nbformat_minor": 5
}
